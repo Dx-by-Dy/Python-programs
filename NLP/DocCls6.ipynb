{
 "cells": [
  {
   "cell_type": "code",
   "execution_count": 1,
   "id": "24637bda-611e-4680-998d-95657250abd4",
   "metadata": {
    "tags": []
   },
   "outputs": [],
   "source": [
    "import torch\n",
    "from transformers import BertTokenizer, BertModel, RobertaTokenizer, RobertaModel, GPT2Tokenizer, GPT2Model\n",
    "\n",
    "from sklearn.datasets import fetch_20newsgroups\n",
    "from sklearn.model_selection import train_test_split\n",
    "from sklearn.metrics import f1_score\n",
    "from sklearn.ensemble import RandomForestClassifier, GradientBoostingClassifier, AdaBoostClassifier\n",
    "\n",
    "import nltk\n",
    "from nltk.corpus import stopwords\n",
    "from nltk.stem import WordNetLemmatizer\n",
    "import re\n",
    "\n",
    "from tqdm import tqdm\n",
    "\n",
    "lemmatizer = WordNetLemmatizer()\n",
    "newsgroups_train = fetch_20newsgroups(subset='all',\n",
    "                                      categories=['alt.atheism',\n",
    "                                                  # 'comp.graphics',\n",
    "                                                  # 'comp.os.ms-windows.misc',\n",
    "                                                  'comp.sys.ibm.pc.hardware',\n",
    "                                                  # 'comp.sys.mac.hardware',\n",
    "                                                  # 'comp.windows.x',\n",
    "                                                  'misc.forsale',\n",
    "                                                  'rec.autos',\n",
    "                                                  # 'rec.motorcycles',\n",
    "                                                  'rec.sport.baseball'],\n",
    "                                      remove=(\"header\",))"
   ]
  },
  {
   "cell_type": "code",
   "execution_count": 2,
   "id": "23001a63-1e67-46d1-986d-cfe3d7e21469",
   "metadata": {
    "tags": []
   },
   "outputs": [],
   "source": [
    "def split_data(x):\n",
    "    return train_test_split(x, newsgroups_train.target, test_size=0.2, random_state=42)"
   ]
  },
  {
   "cell_type": "code",
   "execution_count": 3,
   "id": "8404ecb9-cd46-4146-bdd0-6af5865d39a1",
   "metadata": {
    "tags": []
   },
   "outputs": [],
   "source": [
    "def get_res(typename, dataset):\n",
    "    x_train, x_test, y_train, y_test = split_data(dataset)\n",
    "    print(typename)\n",
    "\n",
    "    clf = RandomForestClassifier(random_state=42, n_estimators=20, max_depth=20)\n",
    "    clf.fit(x_train, y_train)\n",
    "    acc_test = f1_score(y_true=y_test, y_pred=clf.predict(x_test), average=\"micro\")\n",
    "    print(f\"Random Forest:     {round(acc_test, 3)}\")\n",
    "\n",
    "    '''\n",
    "    clf = GradientBoostingClassifier(random_state=42, n_estimators=5)\n",
    "    clf.fit(x_train, y_train)\n",
    "    acc_test = f1_score(y_true=y_test, y_pred=clf.predict(x_test), average=\"micro\")\n",
    "    print(f\"Gradient Boosting: {round(acc_test, 3)}\")\n",
    "    '''\n",
    "\n",
    "    clf = AdaBoostClassifier(algorithm='SAMME', random_state=42, n_estimators=20)\n",
    "    clf.fit(x_train, y_train)\n",
    "    acc_test = f1_score(y_true=y_test, y_pred=clf.predict(x_test), average=\"micro\")\n",
    "    print(f\"Ada Boost:         {round(acc_test, 3)}\")"
   ]
  },
  {
   "cell_type": "code",
   "execution_count": 4,
   "id": "ba1fcda6-e6d7-4765-98a0-9152f768df8c",
   "metadata": {
    "tags": []
   },
   "outputs": [],
   "source": [
    "num_reg_exp = r'[-+]?(?:\\d+(?:\\.\\d*)?|\\.\\d+)(?:[eE][-+]?\\d+)?'\n",
    "special_sym = [\"(\", \")\", \":\", \"@\", \"?\", \",\", \"|\", \">\", \"<\", \"]\", \"\\'\", \"{\", \"/\", \"^\"\n",
    "               \"[\", \".\", \"``\", \"\\'\\'\", \"--\", \"!\", \"-\", \"*\", \"..\", \"$\", \"}\", \"#\", \"=\"]\n",
    "stop_words = stopwords.words('english') + special_sym\n",
    "\n",
    "\n",
    "def delete_stopword_and_lemmatize(listw):\n",
    "    res = []\n",
    "    for word in listw:\n",
    "        word = lemmatizer.lemmatize(word.lower())\n",
    "        if word not in stop_words and re.fullmatch(num_reg_exp, word) is None\\\n",
    "            and not any(sym in word for sym in special_sym):\n",
    "            res += [word]\n",
    "    return res"
   ]
  },
  {
   "cell_type": "code",
   "execution_count": 5,
   "id": "6e33da4f-8725-464e-9cdf-1baa9f8f82c4",
   "metadata": {
    "tags": []
   },
   "outputs": [],
   "source": [
    "tokenizer_bert = BertTokenizer.from_pretrained(\"bert-base-uncased\")\n",
    "model_bert = BertModel.from_pretrained(\"bert-base-uncased\")"
   ]
  },
  {
   "cell_type": "code",
   "execution_count": 6,
   "id": "cd84e5f9-0a26-46b1-a870-f19ad5f6d203",
   "metadata": {
    "tags": []
   },
   "outputs": [],
   "source": [
    "tokenizer_GPT2 = GPT2Tokenizer.from_pretrained(\"gpt2\")\n",
    "model_GPT2 = GPT2Model.from_pretrained(\"gpt2\")"
   ]
  },
  {
   "cell_type": "code",
   "execution_count": 7,
   "id": "62c88176-a312-4a89-a81d-ea774479ee6c",
   "metadata": {
    "tags": []
   },
   "outputs": [
    {
     "name": "stderr",
     "output_type": "stream",
     "text": [
      "Some weights of RobertaModel were not initialized from the model checkpoint at roberta-base and are newly initialized: ['roberta.pooler.dense.bias', 'roberta.pooler.dense.weight']\n",
      "You should probably TRAIN this model on a down-stream task to be able to use it for predictions and inference.\n"
     ]
    }
   ],
   "source": [
    "tokenizer_roberta = RobertaTokenizer.from_pretrained(\"roberta-base\")\n",
    "model_roberta = RobertaModel.from_pretrained(\"roberta-base\")"
   ]
  },
  {
   "cell_type": "code",
   "execution_count": 20,
   "id": "197f1983-74a8-464f-9ce4-e0c3d6930274",
   "metadata": {
    "tags": []
   },
   "outputs": [],
   "source": [
    "tokenize_data = [delete_stopword_and_lemmatize(nltk.word_tokenize(newsgroups_train.data[i]))\n",
    "                 for i in range(len(newsgroups_train.data))]"
   ]
  },
  {
   "cell_type": "code",
   "execution_count": 9,
   "id": "1e6b13f9-f560-4442-a04e-2156f1f5dbee",
   "metadata": {
    "tags": []
   },
   "outputs": [],
   "source": [
    "preproc_data_bert = [tokenizer_bert(\" \".join(tokenize_data[i]), padding=True, truncation=True, return_tensors=\"pt\")\n",
    "                     for i in range(len(tokenize_data))]"
   ]
  },
  {
   "cell_type": "code",
   "execution_count": 10,
   "id": "2df77449-fec5-4c7d-a1b5-59affbc98c83",
   "metadata": {
    "tags": []
   },
   "outputs": [],
   "source": [
    "preproc_data_roberta = [tokenizer_roberta(\" \".join(tokenize_data[i]), padding=True, truncation=True, return_tensors=\"pt\")\n",
    "                        for i in range(len(tokenize_data))]"
   ]
  },
  {
   "cell_type": "code",
   "execution_count": 11,
   "id": "43d9606c-59f6-46ca-a4e8-4eb521d683fb",
   "metadata": {
    "tags": []
   },
   "outputs": [],
   "source": [
    "preproc_data_GPT2 = [tokenizer_GPT2(\" \".join(tokenize_data[i]), truncation=True, return_tensors=\"pt\")\n",
    "                     for i in range(len(tokenize_data))]"
   ]
  },
  {
   "cell_type": "code",
   "execution_count": null,
   "id": "8b747a5e-4e7d-48c0-bfce-55949ec995e9",
   "metadata": {
    "tags": []
   },
   "outputs": [
    {
     "name": "stderr",
     "output_type": "stream",
     "text": [
      "Doc: 18/4740:   0%|▏                                                               | 18/4740 [00:29<3:05:44,  2.36s/it]"
     ]
    }
   ],
   "source": [
    "with torch.no_grad():\n",
    "    vec_data_bert, vec_data_roberta, vec_data_GPT2 = [], [], []\n",
    "    len_docs = len(tokenize_data)\n",
    "\n",
    "    with tqdm(total=len_docs, position=0, leave=True) as pbar:\n",
    "        for idxdoc in range(len_docs):\n",
    "\n",
    "            pbar.set_description(f\"Doc: {idxdoc+1}/{len_docs}\")\n",
    "            pbar.update()\n",
    "\n",
    "            vec_data_bert += [model_bert(**preproc_data_bert[idxdoc]).last_hidden_state[:, 0, :].tolist()[0]]\n",
    "            vec_data_roberta += [model_roberta(**preproc_data_roberta[idxdoc]).last_hidden_state[:, 0, :].tolist()[0]]\n",
    "            vec_data_GPT2 += [model_GPT2(**preproc_data_GPT2[idxdoc]).last_hidden_state[:, 0, :].tolist()[0]]"
   ]
  },
  {
   "cell_type": "code",
   "execution_count": 54,
   "id": "8e99b50a-9551-4a19-9a26-c7646920d0b2",
   "metadata": {
    "tags": []
   },
   "outputs": [
    {
     "name": "stdout",
     "output_type": "stream",
     "text": [
      "ZZZ\n",
      "Random Forest:     0.818\n",
      "Ada Boost:         0.66\n"
     ]
    }
   ],
   "source": [
    "get_res(\"Bert\", vec_data_bert)\n",
    "print(\"--------------------------------\")\n",
    "get_res(\"Roberta:\", vec_data_roberta)\n",
    "print(\"--------------------------------\")\n",
    "get_res(\"GPT2:\", vec_data_GPT2)"
   ]
  }
 ],
 "metadata": {
  "kernelspec": {
   "display_name": "Python 3 (ipykernel)",
   "language": "python",
   "name": "python3"
  },
  "language_info": {
   "codemirror_mode": {
    "name": "ipython",
    "version": 3
   },
   "file_extension": ".py",
   "mimetype": "text/x-python",
   "name": "python",
   "nbconvert_exporter": "python",
   "pygments_lexer": "ipython3",
   "version": "3.10.7"
  }
 },
 "nbformat": 4,
 "nbformat_minor": 5
}
