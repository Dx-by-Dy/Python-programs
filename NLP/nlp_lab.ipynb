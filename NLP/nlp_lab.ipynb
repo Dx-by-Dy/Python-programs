{
 "cells": [
  {
   "cell_type": "code",
   "execution_count": 110,
   "id": "ec33e0a1-c06b-42d9-a4a1-537301f62d44",
   "metadata": {
    "tags": []
   },
   "outputs": [],
   "source": [
    "from numpy import zeros, array\n",
    "from functools import lru_cache\n",
    "import pandas as pd\n",
    "import pymorphy2\n",
    "import time\n",
    "import re\n",
    "\n",
    "\n",
    "morph = pymorphy2.MorphAnalyzer()"
   ]
  },
  {
   "cell_type": "code",
   "execution_count": 2,
   "id": "1cba197f-fa68-46f2-8668-b178d727f707",
   "metadata": {
    "tags": []
   },
   "outputs": [
    {
     "name": "stdout",
     "output_type": "stream",
     "text": [
      "         lemma\n",
      "0            а\n",
      "1           аа\n",
      "2          а-а\n",
      "3          ааа\n",
      "4        а-а-а\n",
      "...        ...\n",
      "51728  ящерица\n",
      "51729   ящерка\n",
      "51730     ящик\n",
      "51731   ящичек\n",
      "51732     ящур\n",
      "\n",
      "[51733 rows x 1 columns]\n"
     ]
    }
   ],
   "source": [
    "lemma_dict = pd.read_csv('C:\\\\Python programs\\\\ru_dict_lemma.csv')\n",
    "print(lemma_dict)"
   ]
  },
  {
   "cell_type": "code",
   "execution_count": 3,
   "id": "bae3ce3a-ee4d-4f35-8d8c-9497b10edf3e",
   "metadata": {
    "tags": []
   },
   "outputs": [
    {
     "name": "stdout",
     "output_type": "stream",
     "text": [
      "               form          lemma  id_sen\n",
      "0                 «              «     0.0\n",
      "1              Если           если     0.0\n",
      "2          передача       передача     0.0\n",
      "3          цифровых       цифровой     0.0\n",
      "4        технологий     технология     0.0\n",
      "...             ...            ...     ...\n",
      "19350  провозглашал  провозглашать   999.0\n",
      "19351          себя           себя   999.0\n",
      "19352        другом           друг   999.0\n",
      "19353          мира            мир   999.0\n",
      "19354             .              .   999.0\n",
      "\n",
      "[19355 rows x 3 columns]\n"
     ]
    }
   ],
   "source": [
    "df_train = pd.read_csv('C:\\\\Python programs\\\\dataset_ru_word_lemma2.csv')\n",
    "print(df_train)"
   ]
  },
  {
   "cell_type": "code",
   "execution_count": 106,
   "id": "b785ea95-98ff-4653-a5bb-45ede72f8e4c",
   "metadata": {
    "tags": []
   },
   "outputs": [
    {
     "name": "stdout",
     "output_type": "stream",
     "text": [
      "            stopword\n",
      "0                  а\n",
      "1          абсолютно\n",
      "2     авторизоваться\n",
      "3           активный\n",
      "4               алло\n",
      "...              ...\n",
      "1367               „\n",
      "1368               “\n",
      "1369               …\n",
      "1370               /\n",
      "1371             ...\n",
      "\n",
      "[1372 rows x 1 columns]\n"
     ]
    }
   ],
   "source": [
    "df_stopwords = pd.read_csv('C:\\\\Python programs\\\\stopwords_ru.csv')\n",
    "print(df_stopwords)"
   ]
  },
  {
   "cell_type": "markdown",
   "id": "2ef6c57a-895f-4589-bfdd-c88f8b73fd17",
   "metadata": {
    "tags": []
   },
   "source": [
    "$$\\large\\textbf{Расстояние Левенштейна}$$"
   ]
  },
  {
   "cell_type": "markdown",
   "id": "4cb16e4d-8b76-4cb8-b645-2d2298b0c05b",
   "metadata": {},
   "source": [
    "$$\n",
    "D(i, j) = \n",
    "\\begin{cases} \n",
    "\\max(i, j), \\quad \\quad \\quad \\quad \\quad \\quad  \\text{if} \\; \\min(i, j) = 0  \\\\\n",
    "\\min( \\quad \\quad \\quad  \\quad  \\quad \\quad \\quad \\quad \\text{otherwise}\\\\\n",
    "\\quad D(i, j - 1) + 1, \\\\\n",
    "\\quad D(i - 1, j) + 1, \\\\\n",
    "\\quad D(i - 1, j - 1) + (W_1[i] \\: \\neq \\: W_2 [j]) \\\\\n",
    ")\n",
    "\\end{cases}\n",
    "$$\n"
   ]
  },
  {
   "cell_type": "code",
   "execution_count": 4,
   "id": "ac3a1559-066f-47fb-8bba-04583e34f12e",
   "metadata": {
    "tags": []
   },
   "outputs": [],
   "source": [
    "@lru_cache\n",
    "def lev_dist(w1, w2):\n",
    "    n, m = len(w1), len(w2)\n",
    "    mat = zeros([n + 1, m + 1], int)\n",
    "    mat[0, :] = array([i for i in range(m + 1)])\n",
    "    mat[:, 0] = array([i for i in range(n + 1)])\n",
    "\n",
    "    for i in range(1, n + 1):\n",
    "        for j in range(1, m + 1):\n",
    "            mat[i][j] = min(mat[i - 1][j] + 1, mat[i][j - 1] + 1,\n",
    "                            mat[i - 1][j - 1] + (w1[i - 1] != w2[j - 1]))\n",
    "    return mat[n][m]"
   ]
  },
  {
   "cell_type": "code",
   "execution_count": 5,
   "id": "be103b86-7964-414d-9040-ef997de429e3",
   "metadata": {
    "tags": []
   },
   "outputs": [],
   "source": [
    "def lemma_lev(w):\n",
    "    lemma = \"\"\n",
    "    len_w = len(w)\n",
    "    len_lemma = len_w\n",
    "    for word in lemma_dict[\"lemma\"]:\n",
    "        if abs(len_w - len(word)) >= len_lemma:\n",
    "            continue\n",
    "\n",
    "        dist = lev_dist(word, w)\n",
    "        if dist < len_lemma:\n",
    "            if dist == 0:\n",
    "                return word\n",
    "            lemma = word\n",
    "            len_lemma = dist\n",
    "\n",
    "    return lemma if lemma != \"\" else w"
   ]
  },
  {
   "cell_type": "code",
   "execution_count": 6,
   "id": "e1e02a5e-4512-4d08-b2c5-e792f8959df3",
   "metadata": {
    "tags": []
   },
   "outputs": [
    {
     "name": "stdout",
     "output_type": "stream",
     "text": [
      "гнездиться\n"
     ]
    }
   ],
   "source": [
    "print(lemma_lev(\"гнездился\"))"
   ]
  },
  {
   "cell_type": "markdown",
   "id": "12b08488-1c35-445d-b3d4-7a6968c1fe03",
   "metadata": {},
   "source": [
    "$$ \\large\\textbf{Поиск по словарю с удалением суффикса}$$"
   ]
  },
  {
   "cell_type": "code",
   "execution_count": 7,
   "id": "123ace0b-d881-4d13-b425-cfeb41156567",
   "metadata": {
    "tags": []
   },
   "outputs": [],
   "source": [
    "@lru_cache\n",
    "def lemma_dbsra(w):\n",
    "    lemma = \"\"\n",
    "    for i in range(len(w)):\n",
    "        for j in range(len(w), i, -1):\n",
    "            if lemma_dict[\"lemma\"].isin([w[i:j]]).any() and j - i > len(lemma):\n",
    "                lemma = w[i:j]\n",
    "    return lemma if lemma != \"\" else w"
   ]
  },
  {
   "cell_type": "code",
   "execution_count": 8,
   "id": "a105470f-10d3-4126-949d-24d2a0e0b8d4",
   "metadata": {
    "tags": []
   },
   "outputs": [
    {
     "name": "stdout",
     "output_type": "stream",
     "text": [
      "+\n"
     ]
    }
   ],
   "source": [
    "print(lemma_dbsra(\"+\"))"
   ]
  },
  {
   "cell_type": "markdown",
   "id": "234673ff-ec0d-4882-83ae-5c54f1649744",
   "metadata": {},
   "source": [
    "$$ \\large\\textbf{Префиксное дерево}$$"
   ]
  },
  {
   "cell_type": "code",
   "execution_count": 18,
   "id": "c8c6f884-7fe9-4019-b2d8-4bffa85f6fae",
   "metadata": {
    "tags": []
   },
   "outputs": [],
   "source": [
    "class Node(object):\n",
    "    def __init__(self, value, child=None, key=None, end=False):\n",
    "        if child is not None and key is not None:\n",
    "            self.children = {key: child}\n",
    "        else:\n",
    "            self.children = {}\n",
    "        self.value = value\n",
    "        self._isEnd = end\n",
    "\n",
    "    def __str__(self):\n",
    "        return f\"keys = {list(self.children.keys())}, value = {self.value}, \\\n",
    "end = {self._isEnd}\"\n",
    "\n",
    "    def addChild(self, value, key):\n",
    "        self.children[key] = Node(value)\n",
    "\n",
    "    def hasChild(self, key):\n",
    "        if key in self.children.keys():\n",
    "            return True\n",
    "        return False\n",
    "\n",
    "    def getChild(self, key):\n",
    "        return self.children[key]\n",
    "\n",
    "    def setValue(self, value):\n",
    "        self.value = value\n",
    "\n",
    "    def getValue(self):\n",
    "        return self.value\n",
    "\n",
    "    def isEnd(self):\n",
    "        return self._isEnd\n",
    "\n",
    "    def getKeys(self):\n",
    "        return list(self.children.keys())\n",
    "\n",
    "    def setEnd(self):\n",
    "        self._isEnd = True\n",
    "\n",
    "\n",
    "class PrefixTrie(object):\n",
    "    def __init__(self, db=None):\n",
    "        self.root = Node('')\n",
    "\n",
    "        if db is not None:\n",
    "            for word in db:\n",
    "                self.insert(word, word)\n",
    "\n",
    "    def insertDict(self, db_form, db_lemma):\n",
    "        for i in range(len(db_form)):\n",
    "            self.insert(db_form[i], db_lemma[i])\n",
    "\n",
    "    def insert(self, key, value):\n",
    "        node = self.root\n",
    "        lenght_key = len(key)\n",
    "        way = \"\"\n",
    "\n",
    "        for i in range(lenght_key):\n",
    "            char = key[i]\n",
    "            way += char\n",
    "            if not node.hasChild(char):\n",
    "                node.addChild(way, char)\n",
    "            node = node.getChild(char)\n",
    "        if (not node.isEnd()):\n",
    "            node.setValue(value)\n",
    "            node.setEnd()\n",
    "\n",
    "    def largestPrefix(self, key):\n",
    "        node = self.root\n",
    "        lemma = \"\"\n",
    "        lenght_key = len(key)\n",
    "\n",
    "        for i in range(lenght_key):\n",
    "            char = key[i]\n",
    "            if not node.hasChild(char):\n",
    "                break\n",
    "            node = node.getChild(char)\n",
    "            if node.isEnd():\n",
    "                lemma = node.getValue()\n",
    "\n",
    "        dif = lenght_key - len(lemma)\n",
    "        if dif != 0:\n",
    "            depth = 1\n",
    "            stack = [node.getChild(i) for i in node.getKeys()]\n",
    "            next_stack = []\n",
    "\n",
    "            while depth <= max(dif, int(lenght_key / 2)):\n",
    "                for elem in stack:\n",
    "                    if elem.isEnd():\n",
    "                        return elem.getValue()\n",
    "                    next_stack += [elem.getChild(i) for i in elem.getKeys()]\n",
    "\n",
    "                stack = next_stack.copy()\n",
    "                next_stack = []\n",
    "                depth += 1\n",
    "\n",
    "        return lemma if lemma != \"\" else key\n",
    "\n",
    "    @lru_cache\n",
    "    def getLemma(self, word):\n",
    "        prefix = \"\"\n",
    "        lemma = word\n",
    "        len_word = len(word)\n",
    "        min_dist = len_word\n",
    "\n",
    "        for i in range(len_word):\n",
    "            prefix += word[i]\n",
    "            new_lemma = self.largestPrefix(prefix)\n",
    "            dist = lev_dist(new_lemma, word)\n",
    "\n",
    "            if dist < min_dist and dist < len_word // 2:\n",
    "                if dist == 0:\n",
    "                    return new_lemma\n",
    "                lemma = new_lemma\n",
    "                min_dist = dist\n",
    "\n",
    "        return lemma"
   ]
  },
  {
   "cell_type": "code",
   "execution_count": 19,
   "id": "81a435e9-cbe6-4a4a-9b0d-b18669a37712",
   "metadata": {
    "tags": []
   },
   "outputs": [],
   "source": [
    "trie = PrefixTrie(lemma_dict[\"lemma\"].apply(str.lower))"
   ]
  },
  {
   "cell_type": "code",
   "execution_count": 21,
   "id": "bcadc325-f9e4-4586-9a1e-ccccff01e059",
   "metadata": {
    "tags": []
   },
   "outputs": [
    {
     "name": "stdout",
     "output_type": "stream",
     "text": [
      "#марка\n"
     ]
    }
   ],
   "source": [
    "print(trie.getLemma(\"#марка\"))"
   ]
  },
  {
   "cell_type": "code",
   "execution_count": 24,
   "id": "6512c35b-b1f0-4181-a445-ee697e7ba7f9",
   "metadata": {
    "tags": []
   },
   "outputs": [
    {
     "name": "stdout",
     "output_type": "stream",
     "text": [
      "PrefixTrie : 0.804, time : 6.067\n",
      "Pymorphy2 : 0.943, time : 6.083\n"
     ]
    }
   ],
   "source": [
    "cnt_PT = 0\n",
    "cnt_PM2 = 0\n",
    "len_df = len(df_train.index)\n",
    "\n",
    "start_time = time.time()\n",
    "for word_id in range(len_df):\n",
    "    word = df_train['form'][word_id].lower()\n",
    "    lemma = df_train['lemma'][word_id].lower()\n",
    "\n",
    "    # if not lemma_dict[\"lemma\"].isin([lemma]).any():\n",
    "    #    len_df -= 1\n",
    "    # else:\n",
    "    res = trie.getLemma(word)\n",
    "    if res == lemma:\n",
    "        cnt_PT += 1\n",
    "\n",
    "time_PT = round(time.time() - start_time, 3)\n",
    "\n",
    "start_time = time.time()\n",
    "for word_id in range(len_df):\n",
    "    word = df_train['form'][word_id].lower()\n",
    "    lemma = df_train['lemma'][word_id].lower()\n",
    "    res = morph.parse(word)[0].normal_form\n",
    "\n",
    "    if res == lemma:\n",
    "        cnt_PM2 += 1\n",
    "\n",
    "time_PM2 = round(time.time() - start_time, 3)\n",
    "\n",
    "# PrefixTrie : 0.804, DBSRA : 0.583\n",
    "# PrefixTrie (если вычесть леммы не в словаре) : 0.833\n",
    "# Pymorphy2 : 0.943\n",
    "# Pymorphy2 (если вычесть леммы не в словаре) : 0.99\n",
    "print(f\"PrefixTrie : {round(cnt_PT / len_df, 3)}, time : {time_PT}\")\n",
    "print(f\"Pymorphy2 : {round(cnt_PM2 / len_df, 3)}, time : {time_PM2}\")"
   ]
  },
  {
   "cell_type": "markdown",
   "id": "22af61d4-7325-4d35-8ca9-5e001a3ea425",
   "metadata": {},
   "source": [
    "$$\\large \\textbf{Расстояние между документами}$$"
   ]
  },
  {
   "cell_type": "markdown",
   "id": "7e0b348b-b76b-4945-96a2-8e378ab4e798",
   "metadata": {},
   "source": [
    "$$\\textbf{Векторизация документов}$$"
   ]
  },
  {
   "cell_type": "markdown",
   "id": "8b0d3adb-e503-456e-a417-0ba49fae1b6a",
   "metadata": {},
   "source": [
    "В stopwordsiso есть 559 русских стоп-слов, найден больший словарь стоп-слов на 1352 слова"
   ]
  },
  {
   "cell_type": "code",
   "execution_count": 127,
   "id": "0be7fe87-80a1-4361-ac2f-e7dec2cf13fd",
   "metadata": {},
   "outputs": [],
   "source": [
    "def vectorize(list_of_docs):\n",
    "    \"\"\"\n",
    "    list_of_doc = [doc1, doc2, ...]\n",
    "    doc1 = [word1, word2, ...]\n",
    "    \"\"\"\n",
    "\n",
    "    count_of_docs = len(list_of_docs)\n",
    "    res_df = pd.DataFrame()\n",
    "    zero_df = pd.DataFrame({'None': [0 for i in range(count_of_docs)]})\n",
    "    num_reg_exp = r'[-+]?(?:\\d+(?:\\.\\d*)?|\\.\\d+)(?:[eE][-+]?\\d+)?'\n",
    "\n",
    "    for id_doc in range(count_of_docs):\n",
    "        for word in list_of_docs[id_doc]:\n",
    "            lemma = morph.parse(word)[0].normal_form\n",
    "\n",
    "            if df_stopwords['stopword'].isin([lemma, word]).any() or \\\n",
    "                    re.fullmatch(num_reg_exp, word) is not None:\n",
    "                continue\n",
    "\n",
    "            if lemma not in res_df.columns:\n",
    "                res_df = pd.concat([res_df,\n",
    "                                   zero_df.rename(columns={'None': lemma})],\n",
    "                                   axis=1)\n",
    "\n",
    "            res_df[lemma][id_doc] += 1\n",
    "\n",
    "    return res_df"
   ]
  },
  {
   "cell_type": "code",
   "execution_count": 128,
   "id": "0d70d133-cb08-4e5c-b02f-701adf5f7ebb",
   "metadata": {
    "tags": []
   },
   "outputs": [
    {
     "name": "stdout",
     "output_type": "stream",
     "text": [
      "   глядеть\n",
      "0        1\n",
      "1        1\n"
     ]
    }
   ],
   "source": [
    "print(vectorize([['я', 'сидел', 'и', 'глядел'], ['ты', 'сидел', 'и', 'глядел']]))"
   ]
  },
  {
   "cell_type": "code",
   "execution_count": 87,
   "id": "ddbd9235-2848-4f97-99d5-aa0dbb89cc30",
   "metadata": {
    "tags": []
   },
   "outputs": [],
   "source": [
    "df_soze = df_train.shape[0]\n",
    "list_docs = [list(df_train.loc[df_train['id_sen'] == id_sen, 'form']) for id_sen in range(1000)]"
   ]
  },
  {
   "cell_type": "code",
   "execution_count": 116,
   "id": "dd00578b-db1c-498e-b163-52b925c5e5cb",
   "metadata": {
    "tags": []
   },
   "outputs": [],
   "source": [
    "vect_list = vectorize(list_docs)"
   ]
  },
  {
   "cell_type": "code",
   "execution_count": 117,
   "id": "d0c1a6f6-7da0-4a44-98dc-e9d4a902625d",
   "metadata": {
    "tags": []
   },
   "outputs": [
    {
     "name": "stdout",
     "output_type": "stream",
     "text": [
      "     передача  цифровой  сша  впервые  мирный  власть  написать  корь  \\\n",
      "0           2         1    1        1       1       1         1     1   \n",
      "1           1         0    0        0       0       0         0     0   \n",
      "2           0         0    0        0       0       0         0     0   \n",
      "3           0         0    0        0       0       0         0     0   \n",
      "4           0         0    0        0       0       0         0     0   \n",
      "..        ...       ...  ...      ...     ...     ...       ...   ...   \n",
      "995         0         0    0        0       0       0         0     0   \n",
      "996         0         0    0        0       0       0         0     0   \n",
      "997         0         0    0        0       0       0         0     0   \n",
      "998         0         0    0        0       0       0         0     0   \n",
      "999         0         0    0        0       0       0         0     0   \n",
      "\n",
      "     шульман  специальный  ...  окончательно  баллотироваться  консул  отвод  \\\n",
      "0          1            1  ...             0                0       0      0   \n",
      "1          0            0  ...             0                0       0      0   \n",
      "2          0            0  ...             0                0       0      0   \n",
      "3          0            0  ...             0                0       0      0   \n",
      "4          0            0  ...             0                0       0      0   \n",
      "..       ...          ...  ...           ...              ...     ...    ...   \n",
      "995        0            0  ...             0                0       0      0   \n",
      "996        0            0  ...             0                0       0      0   \n",
      "997        0            0  ...             0                0       0      0   \n",
      "998        0            0  ...             1                1       1      1   \n",
      "999        0            0  ...             0                0       0      0   \n",
      "\n",
      "     безоружный  противник  прочесть  заявление  проконсул  провозглашать  \n",
      "0             0          0         0          0          0              0  \n",
      "1             0          0         0          0          0              0  \n",
      "2             0          0         0          0          0              0  \n",
      "3             0          0         0          0          0              0  \n",
      "4             0          0         0          0          0              0  \n",
      "..          ...        ...       ...        ...        ...            ...  \n",
      "995           0          0         0          0          0              0  \n",
      "996           0          0         0          0          0              0  \n",
      "997           0          0         0          0          0              0  \n",
      "998           1          1         0          0          0              0  \n",
      "999           0          0         1          1          1              1  \n",
      "\n",
      "[1000 rows x 4467 columns]\n"
     ]
    }
   ],
   "source": [
    "print(vect_list)"
   ]
  },
  {
   "cell_type": "code",
   "execution_count": 149,
   "id": "bd07001d-1e03-4ed6-b737-7d297ea6fd58",
   "metadata": {
    "tags": []
   },
   "outputs": [],
   "source": [
    "@lru_cache\n",
    "def norm(vect):\n",
    "    return sum([elem ** 2 for elem in vect]) ** 0.5\n",
    "\n",
    "\n",
    "def prod_vect(vect1, vect2):\n",
    "    return sum([vect1[i] * vect2[i] for i in range(len(vect1))])\n",
    "\n",
    "\n",
    "def cosine_docs(vect1, vect2):\n",
    "    return prod_vect(vect1, vect2) / (norm(vect1) * norm(vect2))"
   ]
  },
  {
   "cell_type": "code",
   "execution_count": 151,
   "id": "c0a339b0-549c-46d6-976c-cf8278360a50",
   "metadata": {
    "tags": []
   },
   "outputs": [
    {
     "name": "stderr",
     "output_type": "stream",
     "text": [
      "C:\\Users\\user\\AppData\\Local\\Temp\\ipykernel_7016\\2316977802.py:11: RuntimeWarning: invalid value encountered in scalar divide\n",
      "  return prod_vect(vect1, vect2) / (norm(vect1) * norm(vect2))\n"
     ]
    },
    {
     "name": "stdout",
     "output_type": "stream",
     "text": [
      "['Максимально', 'допустимая', 'сумма', 'на', 'одного', 'человека', '—', '5000', 'долларов', 'США', '.']\n",
      "['Сумма', 'сдельной', 'заработной', 'платы', 'и', 'бонусов', 'в', 'том', 'году', 'составила', '1,5', 'миллиона', 'долларов', 'США', ',', 'примерно', 'на', 'том', 'же', 'уровне', ',', 'что', 'и', 'в', '2015', '—', '2016', 'гг', '.']\n",
      "0.5163977794943222\n",
      "\n",
      "['Нужно', 'провести', 'параллель', 'между', 'играми', 'и', 'нашей', 'повседневной', 'жизнью', '.']\n",
      "['Как', 'полагают', 'историки', ',', 'последние', 'Олимпийские', 'игры', 'были', 'проведены', 'в', '393', 'году', 'н.', 'э', '.']\n",
      "0.5163977794943222\n",
      "\n",
      "['Руководители', 'также', 'получили', 'так', 'называемую', '«', 'сдельную', 'заработную', 'плату', '»', 'за', 'выполнение', 'или', 'превышение', 'ожиданий', ',', 'разделив', 'между', 'собой', 'сумму', 'в', '1,5', 'миллиона', 'долларов', 'США', ',', 'или', 'в', 'среднем', '15000', 'долларов', 'США', 'каждый', '.']\n",
      "['Сумма', 'сдельной', 'заработной', 'платы', 'и', 'бонусов', 'в', 'том', 'году', 'составила', '1,5', 'миллиона', 'долларов', 'США', ',', 'примерно', 'на', 'том', 'же', 'уровне', ',', 'что', 'и', 'в', '2015', '—', '2016', 'гг', '.']\n",
      "0.629940788348712\n",
      "\n",
      "['Спустя', 'два', 'года', 'Джаттинг', ',', 'которому', 'сейчас', '31', ',', 'предстал', 'перед', 'судом', 'первой', 'инстанции', 'Гонконга', ';', 'eму', 'предъявлено', 'обвинение', 'в', 'двух', 'убийствах', ',', 'а', 'также', 'в', 'воспрепятствовании', 'законному', 'захоронению', '.']\n",
      "['Спустя', 'два', 'года', 'Джаттинг', ',', 'представший', 'перед', 'судом', 'первой', 'инстанции', 'в', 'Гонконге', ',', 'выглядит', 'довольно-таки', 'спокойно', '.']\n",
      "0.588348405414552\n",
      "\n",
      "['Гранитные', 'острова', 'включают', 'в', 'себя', 'Сейшелы', ',', 'Тиоман', 'и', 'вулканические', 'острова', ',', 'такие', 'как', 'остров', 'Святой', 'Елены', '.']\n",
      "['Исследование', 'острова', 'и', 'экспедиции', 'на', 'остров', 'продолжаются', '.']\n",
      "0.5669467095138409\n",
      "\n",
      "['Примером', 'пустынного', 'острова', 'могут', 'быть', 'маленькие', 'острова', 'у', 'берега', 'Нижней', 'Калифорнии', 'в', 'Мексике', '.']\n",
      "['Исследование', 'острова', 'и', 'экспедиции', 'на', 'остров', 'продолжаются', '.']\n",
      "0.5039526306789696\n",
      "\n",
      "['К', 'сожалению', ',', 'быстрый', 'рост', 'численности', 'населения', 'и', 'рост', 'городов', 'затронул', 'большую', 'часть', 'этих', 'экосистем', 'застройкой', '.']\n",
      "['С', 'ростом', 'численности', 'населения', 'были', 'созданы', 'новые', 'местные', 'поселения', '.']\n",
      "0.5163977794943223\n",
      "\n",
      "['С', 'падением', 'династии', 'Цин', 'в', '1911', 'году', 'Монголия', 'при', 'Богдо-гэгэне', 'объявила', 'о', 'своей', 'независимости', '.']\n",
      "['Богдо-гэгэн', 'сказал', ',', 'что', 'и', 'Монголия', ',', 'и', 'Китай', 'находились', 'под', 'управлением', 'маньчжуров', 'во', 'время', 'правления', 'династии', 'Цин', ',', 'и', 'после', 'ее', 'падения', 'в', '1911', 'году', 'договор', 'о', 'подчинении', 'Монголии', 'маньчжурам', 'стал', 'недействительным', '.']\n",
      "0.5202659817144719\n",
      "\n",
      "['Со', 'времен', 'Императора', 'Мейдзи', 'обычным', 'было', 'относить', 'одну', 'эру', 'на', 'имя', 'императора', 'и', 'изменять', 'имя', 'императора', 'после', 'его', 'смерти', 'на', 'имя', 'эры', ',', 'в', 'которую', 'он', 'правил', '.']\n",
      "['До', 'императора', 'Мейдзи', 'названия', 'эр', 'менялись', 'чаще', ',', 'и', 'посмертное', 'имя', 'императора', 'выбиралось', 'по-другому', '.']\n",
      "0.6396021490668314\n",
      "\n"
     ]
    }
   ],
   "source": [
    "for i in range(1000):\n",
    "    vect1 = tuple(vect_list.values[i])\n",
    "    for j in range(i + 1, 1000):\n",
    "        vect2 = tuple(vect_list.values[j])\n",
    "        cos_value = cosine_docs(vect1, vect2)\n",
    "\n",
    "        if cos_value > 0.5:\n",
    "            print(list_docs[i])\n",
    "            print(list_docs[j])\n",
    "            print(cos_value)\n",
    "            print()"
   ]
  }
 ],
 "metadata": {
  "kernelspec": {
   "display_name": "Python 3 (ipykernel)",
   "language": "python",
   "name": "python3"
  },
  "language_info": {
   "codemirror_mode": {
    "name": "ipython",
    "version": 3
   },
   "file_extension": ".py",
   "mimetype": "text/x-python",
   "name": "python",
   "nbconvert_exporter": "python",
   "pygments_lexer": "ipython3",
   "version": "3.10.7"
  }
 },
 "nbformat": 4,
 "nbformat_minor": 5
}
