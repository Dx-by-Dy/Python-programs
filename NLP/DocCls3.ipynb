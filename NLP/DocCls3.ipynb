{
 "cells": [
  {
   "cell_type": "code",
   "execution_count": 1,
   "id": "c9c05390-860a-4265-b97e-e47fb4fc355d",
   "metadata": {
    "tags": []
   },
   "outputs": [],
   "source": [
    "from sklearn.datasets import fetch_20newsgroups\n",
    "from sklearn.model_selection import train_test_split\n",
    "from sklearn.metrics import f1_score\n",
    "from sklearn.tree import DecisionTreeClassifier\n",
    "import nltk\n",
    "from nltk.corpus import stopwords\n",
    "from nltk.stem import WordNetLemmatizer\n",
    "from gensim import corpora, models\n",
    "from gensim.models import TfidfModel\n",
    "import re\n",
    "\n",
    "lemmatizer = WordNetLemmatizer()\n",
    "newsgroups_train = fetch_20newsgroups(subset='all',\n",
    "                                      categories=['alt.atheism',\n",
    "                                                  # 'comp.graphics',\n",
    "                                                  # 'comp.os.ms-windows.misc',\n",
    "                                                  'comp.sys.ibm.pc.hardware',\n",
    "                                                  # 'comp.sys.mac.hardware',\n",
    "                                                  # 'comp.windows.x',\n",
    "                                                  'misc.forsale',\n",
    "                                                  'rec.autos',\n",
    "                                                  # 'rec.motorcycles',\n",
    "                                                  'rec.sport.baseball'],\n",
    "                                      remove=(\"header\",))"
   ]
  },
  {
   "cell_type": "code",
   "execution_count": 2,
   "id": "598e141d-cecd-4666-8741-4b6e55c70cf8",
   "metadata": {
    "tags": []
   },
   "outputs": [],
   "source": [
    "num_reg_exp = r'[-+]?(?:\\d+(?:\\.\\d*)?|\\.\\d+)(?:[eE][-+]?\\d+)?'\n",
    "special_sym = [\"(\", \")\", \":\", \"@\", \"?\", \",\", \"|\", \">\", \"<\", \"]\", \"\\'\", \"{\", \"/\", \"^\"\n",
    "               \"[\", \".\", \"``\", \"\\'\\'\", \"--\", \"!\", \"-\", \"*\", \"..\", \"$\", \"}\", \"#\", \"=\"]\n",
    "stop_words = stopwords.words('english') + special_sym\n",
    "\n",
    "\n",
    "def delete_stopword_and_lemmatize(listw):\n",
    "    res = []\n",
    "    for word in listw:\n",
    "        word = word.lower()\n",
    "        if word not in stop_words and re.fullmatch(num_reg_exp, word) is None and not any(sym in word for sym in special_sym):\n",
    "            res += [lemmatizer.lemmatize(word)]\n",
    "    return res"
   ]
  },
  {
   "cell_type": "code",
   "execution_count": 3,
   "id": "cb477cec-920a-44f9-abd2-7e389abf52ed",
   "metadata": {
    "tags": []
   },
   "outputs": [],
   "source": [
    "def split_data(x):\n",
    "    return train_test_split(x, newsgroups_train.target, test_size=0.2, random_state=42)"
   ]
  },
  {
   "cell_type": "code",
   "execution_count": 4,
   "id": "fb5ce5ea-34d6-4ed9-9b7e-8248e52c4ea6",
   "metadata": {
    "tags": []
   },
   "outputs": [],
   "source": [
    "tokenize_data = [nltk.word_tokenize(newsgroups_train.data[i])\n",
    "                 for i in range(len(newsgroups_train.data))]"
   ]
  },
  {
   "cell_type": "code",
   "execution_count": 5,
   "id": "298f55d4-27d0-4182-a245-49fcd18a5bc4",
   "metadata": {
    "tags": []
   },
   "outputs": [],
   "source": [
    "tokenize_data = [delete_stopword_and_lemmatize(tokenize_data[i])\n",
    "                 for i in range(len(tokenize_data))]"
   ]
  },
  {
   "cell_type": "code",
   "execution_count": 6,
   "id": "d709555d-8ba8-4429-ba2f-7dce99d29eed",
   "metadata": {
    "tags": []
   },
   "outputs": [],
   "source": [
    "dictn = corpora.Dictionary(tokenize_data)\n",
    "corpus = [dictn.doc2bow(doc) for doc in tokenize_data]\n",
    "\n",
    "model = TfidfModel(corpus)\n",
    "tfidf_corpus = [model[doc] for doc in corpus]\n",
    "lda_model = models.LdaModel(corpus=tfidf_corpus, num_topics=100, id2word=dictn, passes=15)"
   ]
  },
  {
   "cell_type": "code",
   "execution_count": 7,
   "id": "18f45657-8167-4f23-8c59-e63e459bef24",
   "metadata": {
    "tags": []
   },
   "outputs": [
    {
     "name": "stdout",
     "output_type": "stream",
     "text": [
      "(96, '0.025*\"callison\" + 0.013*\"james\" + 0.012*\"v6\" + 0.011*\"sc\" + 0.011*\"oklahoma\" + 0.008*\"hell\" + 0.008*\"gajarsky\" + 0.008*\"disc\" + 0.007*\"norman\" + 0.007*\"sho\"')\n",
      "(62, '0.019*\"probe\" + 0.012*\"gt\" + 0.006*\"horn\" + 0.005*\"chuck\" + 0.003*\"ford\" + 0.000*\"suspension\" + 0.000*\"dealer\" + 0.000*\"definitely\" + 0.000*\"back\" + 0.000*\"kesler\"')\n",
      "(18, '0.019*\"sony\" + 0.002*\"optical\" + 0.000*\"cd\" + 0.000*\"flopticals\" + 0.000*\"md\" + 0.000*\"drive\" + 0.000*\"floppy\" + 0.000*\"mb\" + 0.000*\"product\" + 0.000*\"21mb\"')\n",
      "(9, '0.000*\"ascertained\" + 0.000*\"auctioned\" + 0.000*\"muhammad\" + 0.000*\"regulating\" + 0.000*\"breadth\" + 0.000*\"hindsight\" + 0.000*\"preconceived\" + 0.000*\"interviewed\" + 0.000*\"dinged\" + 0.000*\"dink\"')\n",
      "(38, '0.016*\"boot\" + 0.006*\"processor\" + 0.006*\"pentium\" + 0.006*\"diskette\" + 0.005*\"linux\" + 0.002*\"gryphon\" + 0.001*\"president\" + 0.001*\"technology\" + 0.001*\"demo\" + 0.000*\"intel\"')\n",
      "(31, '0.016*\"rice\" + 0.014*\"darice\" + 0.014*\"fred\" + 0.007*\"chevy\" + 0.005*\"leave\" + 0.004*\"marriage\" + 0.004*\"ho\" + 0.003*\"camaro\" + 0.002*\"ease\" + 0.002*\"allowed\"')\n",
      "(91, '0.030*\"bill\" + 0.023*\"conner\" + 0.014*\"bil\" + 0.013*\"tin\" + 0.012*\"pl9\" + 0.012*\"human\" + 0.011*\"nature\" + 0.010*\"moral\" + 0.009*\"okcforum\" + 0.009*\"agency\"')\n",
      "(65, '0.018*\"package\" + 0.014*\"camera\" + 0.011*\"hotel\" + 0.010*\"lens\" + 0.009*\"sell\" + 0.008*\"voucher\" + 0.008*\"douglas\" + 0.008*\"vacation\" + 0.007*\"film\" + 0.007*\"koutd\"')\n",
      "(82, '0.008*\"catcher\" + 0.008*\"aaa\" + 0.008*\"spread\" + 0.007*\"excellent\" + 0.007*\"lopez\" + 0.005*\"tate\" + 0.004*\"genetic+\" + 0.004*\"league\" + 0.004*\"olson\" + 0.003*\"e\"')\n",
      "(83, '0.019*\"%\" + 0.014*\"pocket\" + 0.014*\"heard\" + 0.011*\"texas\" + 0.010*\"football\" + 0.009*\"spring\" + 0.009*\"pitch\" + 0.009*\"watch\" + 0.008*\"commercial\" + 0.007*\"called\"')\n",
      "(71, '0.003*\"stalin\" + 0.002*\"arrogant\" + 0.001*\"theist\" + 0.001*\"worse\" + 0.001*\"_him_\" + 0.001*\"mongol\" + 0.001*\"extermination\" + 0.001*\"unsympathetic\" + 0.001*\"conquered\" + 0.001*\"worshipped\"')\n",
      "(67, '0.006*\"increase\" + 0.004*\"korea\" + 0.004*\"japan\" + 0.003*\"suffers\" + 0.002*\"exported\" + 0.001*\"president\" + 0.000*\"rice\" + 0.000*\"honda\" + 0.000*\"hyundai\" + 0.000*\"andrew\"')\n",
      "(69, '0.004*\"patrick\" + 0.004*\"worship\" + 0.003*\"leger\" + 0.003*\"pl1u+\" + 0.002*\"gullible\" + 0.001*\"cool\" + 0.001*\"sophomore\" + 0.000*\"c\" + 0.000*\"chris\" + 0.000*\"electrical\"')\n",
      "(10, '0.000*\"ascertained\" + 0.000*\"auctioned\" + 0.000*\"muhammad\" + 0.000*\"regulating\" + 0.000*\"breadth\" + 0.000*\"hindsight\" + 0.000*\"preconceived\" + 0.000*\"interviewed\" + 0.000*\"dinged\" + 0.000*\"dink\"')\n",
      "(51, '0.016*\"phone\" + 0.014*\"sold\" + 0.014*\"obo\" + 0.013*\"cable\" + 0.011*\"amiga\" + 0.011*\"remote\" + 0.010*\"battery\" + 0.009*\"contact\" + 0.008*\"stamp\" + 0.008*\"office\"')\n",
      "(98, '0.018*\"thanks\" + 0.014*\"book\" + 0.013*\"usa\" + 0.013*\"buy\" + 0.012*\"mathew\" + 0.011*\"mile\" + 0.011*\"ford\" + 0.010*\"back\" + 0.010*\"advance\" + 0.010*\"month\"')\n",
      "(61, '0.000*\"ascertained\" + 0.000*\"auctioned\" + 0.000*\"muhammad\" + 0.000*\"regulating\" + 0.000*\"breadth\" + 0.000*\"hindsight\" + 0.000*\"preconceived\" + 0.000*\"interviewed\" + 0.000*\"dinged\" + 0.000*\"dink\"')\n",
      "(8, '0.024*\"_\" + 0.005*\"___\" + 0.004*\"ahead\" + 0.003*\"traffic\" + 0.003*\"bpita\" + 0.003*\"pita\" + 0.003*\"pack\" + 0.002*\"block\" + 0.002*\"braindead\" + 0.002*\"semi\"')\n",
      "(2, '0.034*\"sox\" + 0.018*\"boston\" + 0.015*\"red\" + 0.014*\"edward\" + 0.013*\"ted\" + 0.010*\"tedward\" + 0.010*\"prediction\" + 0.009*\"fischer\" + 0.008*\"ring\" + 0.007*\"shawn\"')\n",
      "(60, '0.015*\"game\" + 0.011*\"team\" + 0.010*\"baseball\" + 0.010*\"player\" + 0.010*\"writes\" + 0.009*\"+\" + 0.009*\"know\" + 0.008*\"last\" + 0.008*\"best\" + 0.008*\"john\"')\n"
     ]
    }
   ],
   "source": [
    "lda_topics = lda_model.print_topics(num_words=10)\n",
    "for topic in lda_topics:\n",
    "    print(topic)"
   ]
  },
  {
   "cell_type": "code",
   "execution_count": 43,
   "id": "36cdf549-d434-42e1-8018-3f16621f2a68",
   "metadata": {
    "tags": []
   },
   "outputs": [
    {
     "name": "stdout",
     "output_type": "stream",
     "text": [
      "[0.0017468884, 0.0017468884, 0.0017468884, 0.0017468884, 0.0017468884, 0.0017468884, 0.0017468884, 0.1002154, 0.0017468884, 0.0017468884, 0.0017468884, 0.0017468884, 0.0017468884, 0.0017468884, 0.0017468884, 0.0017468884, 0.0017468884, 0.0017468884, 0.0017468884, 0.0017468884, 0.0017468884, 0.0017468884, 0.0017468884, 0.0017468884, 0.0017468884, 0.0017468884, 0.0017468884, 0.0017468884, 0.0017468884, 0.0017468884, 0.0017468884, 0.0017468884, 0.0017468884, 0.0017468884, 0.0017468884, 0.0017468884, 0.0017468884, 0.0017468884, 0.0017468884, 0.0017468884, 0.0017468884, 0.07837382, 0.0017468884, 0.0017468884, 0.0017468884, 0.0017468884, 0.0017468884, 0.0017468884, 0.0017468884, 0.0017468884, 0.0017468884, 0.0017468884, 0.0017468884, 0.0017468884, 0.0017468884, 0.0017468884, 0.0017468884, 0.0017468884, 0.0017468884, 0.0017468884, 0.05689781, 0.0017468884, 0.0017468884, 0.0017468884, 0.0017468884, 0.0017468884, 0.0017468884, 0.0017468884, 0.0017468884, 0.0017468884, 0.0017468884, 0.0017468884, 0.0017468884, 0.0017468884, 0.0017468884, 0.0017468884, 0.0017468884, 0.0017468884, 0.0017468884, 0.0017468884, 0.0663973, 0.19204125, 0.0017468884, 0.0017468884, 0.0017468884, 0.0017468884, 0.0017468884, 0.0017468884, 0.0017468884, 0.2981377, 0.0017468884, 0.0017468884, 0.04547609, 0.0017468884, 0.0017468884, 0.0017468884, 0.0017468884, 0.0017468884, 0.0017468884, 0.0017468884]\n"
     ]
    }
   ],
   "source": [
    "dataset = []\n",
    "for i in range(len(tfidf_corpus)):\n",
    "    dataset += [[val[1] if val[1] > 0 else 0 for val in lda_model.get_document_topics(tfidf_corpus[i], minimum_probability=0.0)]]\n",
    "print(dataset[10])"
   ]
  },
  {
   "cell_type": "code",
   "execution_count": 46,
   "id": "8a4f21bf-9840-4dc9-b668-038091c02fbb",
   "metadata": {
    "tags": []
   },
   "outputs": [
    {
     "name": "stdout",
     "output_type": "stream",
     "text": [
      "0.537\n"
     ]
    }
   ],
   "source": [
    "x_train, x_test, y_train, y_test = split_data(dataset)\n",
    "clf = DecisionTreeClassifier(random_state=42, max_depth=10)\n",
    "clf.fit(x_train, y_train)\n",
    "acc_test = f1_score(y_true=y_test, y_pred=clf.predict(x_test), average=\"micro\")\n",
    "print(round(acc_test, 3))"
   ]
  },
  {
   "cell_type": "code",
   "execution_count": null,
   "id": "17a7dd74-ebd3-4227-9f1c-5e1d504cd470",
   "metadata": {},
   "outputs": [],
   "source": []
  }
 ],
 "metadata": {
  "kernelspec": {
   "display_name": "Python 3 (ipykernel)",
   "language": "python",
   "name": "python3"
  },
  "language_info": {
   "codemirror_mode": {
    "name": "ipython",
    "version": 3
   },
   "file_extension": ".py",
   "mimetype": "text/x-python",
   "name": "python",
   "nbconvert_exporter": "python",
   "pygments_lexer": "ipython3",
   "version": "3.10.7"
  }
 },
 "nbformat": 4,
 "nbformat_minor": 5
}
