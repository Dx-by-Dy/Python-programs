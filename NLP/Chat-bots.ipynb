{
 "cells": [
  {
   "cell_type": "code",
   "execution_count": 84,
   "id": "2437942e-8e6b-4c08-b688-669060965a01",
   "metadata": {},
   "outputs": [],
   "source": [
    "import json\n",
    "\n",
    "from transformers import BertTokenizer, BertModel\n",
    "from nltk.stem import WordNetLemmatizer\n",
    "from nltk import word_tokenize\n",
    "from nltk.corpus import stopwords\n",
    "\n",
    "from numpy import zeros, array\n",
    "import re\n",
    "\n",
    "from sklearn.metrics.pairwise import cosine_similarity\n",
    "\n",
    "lemmatizer = WordNetLemmatizer()"
   ]
  },
  {
   "cell_type": "code",
   "execution_count": 62,
   "id": "43a8afe1-67d5-46de-944b-339ff33efdc4",
   "metadata": {},
   "outputs": [
    {
     "name": "stderr",
     "output_type": "stream",
     "text": [
      "C:\\Users\\9\\AppData\\Local\\Programs\\Python\\Python310\\lib\\site-packages\\transformers\\tokenization_utils_base.py:1601: FutureWarning: `clean_up_tokenization_spaces` was not set. It will be set to `True` by default. This behavior will be depracted in transformers v4.45, and will be then set to `False` by default. For more details check this issue: https://github.com/huggingface/transformers/issues/31884\n",
      "  warnings.warn(\n"
     ]
    }
   ],
   "source": [
    "tokenizer_bert = BertTokenizer.from_pretrained(\"bert-base-uncased\")\n",
    "model_bert = BertModel.from_pretrained(\"bert-base-uncased\")"
   ]
  },
  {
   "cell_type": "code",
   "execution_count": 64,
   "id": "7c552435-73a1-42d4-9d52-9857bbe01ede",
   "metadata": {},
   "outputs": [],
   "source": [
    "num_reg_exp = r'[-+]?(?:\\d+(?:\\.\\d*)?|\\.\\d+)(?:[eE][-+]?\\d+)?'\n",
    "special_sym = [\"(\", \")\", \":\", \"@\", \"?\", \",\", \"|\", \">\", \"<\", \"]\", \"\\'\", \"{\", \"/\", \"^\"\n",
    "               \"[\", \".\", \"``\", \"\\'\\'\", \"--\", \"!\", \"-\", \"*\", \"..\", \"$\", \"}\", \"#\", \"=\"]\n",
    "stop_words = stopwords.words('russian') + special_sym\n",
    "exception_words = [\"да\", \"нет\", \"не\"]\n",
    "\n",
    "\n",
    "def delete_stopword_and_lemmatize(listw):\n",
    "    res = []\n",
    "    for word in listw:\n",
    "        word = lemmatizer.lemmatize(word.lower())\n",
    "        if word not in stop_words and re.fullmatch(num_reg_exp, word) is None and not any(sym in word for sym in special_sym) or word in exception_words:\n",
    "            res += [word]\n",
    "    return res"
   ]
  },
  {
   "cell_type": "code",
   "execution_count": 125,
   "id": "c3bcf7e3-cfc2-43b1-b136-c2a7dbf39a9a",
   "metadata": {},
   "outputs": [],
   "source": [
    "def lev_dist(w1, w2):\n",
    "    n, m = len(w1), len(w2)\n",
    "    mat = zeros([n + 1, m + 1], int)\n",
    "    mat[0, :] = array([i for i in range(m + 1)])\n",
    "    mat[:, 0] = array([i for i in range(n + 1)])\n",
    "\n",
    "    for i in range(1, n + 1):\n",
    "        for j in range(1, m + 1):\n",
    "            mat[i][j] = min(mat[i - 1][j] + 1, mat[i][j - 1] + 1,\n",
    "                            mat[i - 1][j - 1] + (w1[i - 1].lower() != w2[j - 1].lower()))\n",
    "    return mat[n][m]"
   ]
  },
  {
   "cell_type": "code",
   "execution_count": 126,
   "id": "32618200-a7d1-48a1-8fbe-037a15c0cbff",
   "metadata": {},
   "outputs": [],
   "source": [
    "lvls, res = [], []\n",
    "\n",
    "\n",
    "def DFS(dct, way):\n",
    "    global lvls, res\n",
    "\n",
    "    if isinstance(dct, dict):\n",
    "        for q in dct.keys():\n",
    "            n_way = way + [q]\n",
    "            if [n_way] not in lvls:\n",
    "                lvls += [n_way]\n",
    "                DFS(dct[q], n_way)\n",
    "    else:\n",
    "        res += [way[1:] + [dct]]"
   ]
  },
  {
   "cell_type": "code",
   "execution_count": 65,
   "id": "e904e533-58bf-4ae1-b47c-09322eb719f1",
   "metadata": {},
   "outputs": [],
   "source": [
    "class Node():\n",
    "    def __init__(self, question, parent, child=None, ans=None, end=False):\n",
    "        if child is not None and ans is not None:\n",
    "            self.children = {ans: child}\n",
    "        else:\n",
    "            self.children = {}\n",
    "\n",
    "        self.parent = parent\n",
    "        self.question = question\n",
    "        self.is_end = end\n",
    "\n",
    "    def __str__(self):\n",
    "        child = [(i, self.children[i].question) for i in self.children.keys()] if len(list(self.children.keys())) > 0 else None\n",
    "        return f\"question = {self.question}, is_end = {self.is_end}, parent = {self.parent.question if self.parent is not None else None}, children = {child}\\n\"\n",
    "\n",
    "    def add_child(self, node, ans):\n",
    "        self.children[ans] = node\n",
    "        return node\n",
    "\n",
    "    def get_child(self, ans):\n",
    "        return self.children[ans] if ans in self.children.keys() else None"
   ]
  },
  {
   "cell_type": "code",
   "execution_count": 135,
   "id": "409f91cd-5f26-40c3-9e07-c172f6528cfa",
   "metadata": {},
   "outputs": [],
   "source": [
    "class Tree():\n",
    "    def __init__(self, f_question):\n",
    "        self.root = Node(f_question, None)\n",
    "\n",
    "    def insert(self, struct):\n",
    "        for i in struct:\n",
    "            node = self.root\n",
    "\n",
    "            for j in range(0, len(i), 2):\n",
    "                n_node = node.get_child(i[j])\n",
    "                if n_node is None:\n",
    "                    if j + 1 < len(i):\n",
    "                        node = node.add_child(Node(i[j+1], node), i[j])\n",
    "                    else:\n",
    "                        node = node.add_child(Node(None, node), i[j])\n",
    "                else:\n",
    "                    node = n_node\n",
    "\n",
    "            node.is_end = True\n",
    "\n",
    "    def dialog(self, var=\"Bert\"):\n",
    "        node = self.root\n",
    "        repeat = False\n",
    "\n",
    "        while True:\n",
    "\n",
    "            if node.question == \"START\":\n",
    "                node = self.root\n",
    "            if len(list(node.children.keys())) == 0:\n",
    "                print(node.question)\n",
    "                break\n",
    "\n",
    "            if repeat:\n",
    "                print(\"Извините, мы не поняли вашего ответа, так как его нет в нашей базе данных, напишите по другому.\")\n",
    "                repeat = False\n",
    "            else:\n",
    "                print(node.question)\n",
    "\n",
    "            if var == \"Bert\":\n",
    "                ans = model_bert(**tokenizer_bert(\" \".join(delete_stopword_and_lemmatize(word_tokenize(input()))),\n",
    "                                            padding=True,\n",
    "                                            truncation=True,\n",
    "                                            return_tensors=\"pt\")).last_hidden_state[:, 0, :].tolist()[0]\n",
    "\n",
    "                dial_ans = [cosine_similarity([ans], [model_bert(**tokenizer_bert(\" \".join(delete_stopword_and_lemmatize(word_tokenize(d_ans))),\n",
    "                                            padding=True,\n",
    "                                            truncation=True,\n",
    "                                            return_tensors=\"pt\")).last_hidden_state[:, 0, :].tolist()[0]])[0][0] for d_ans in node.children.keys()]\n",
    "\n",
    "                if max(dial_ans) < 0.95:\n",
    "                    repeat = True\n",
    "                else:\n",
    "                    node = node.get_child(list(node.children.keys())[dial_ans.index(max(dial_ans))])\n",
    "\n",
    "            elif var == \"Lev\":\n",
    "                ans = input()\n",
    "                dial_ans = [lev_dist(ans, d_ans) for d_ans in node.children.keys()]\n",
    "                dial_ans = [dial_ans[i] if dial_ans[i] <= len(list(node.children.keys())[i]) // 2 else 1000 for i in range(len(dial_ans))]\n",
    "\n",
    "                if min(dial_ans) >= 1000:\n",
    "                    repeat = True\n",
    "                else:\n",
    "                    node = node.get_child(list(node.children.keys())[dial_ans.index(min(dial_ans))])"
   ]
  },
  {
   "cell_type": "code",
   "execution_count": 99,
   "id": "e36f29e6-8e3e-4df4-9993-ec40b47a3904",
   "metadata": {},
   "outputs": [],
   "source": [
    "dial = json.load(open('C:\\\\Users\\\\9\\\\Desktop\\\\dialog.json', 'r', encoding='utf-8-sig'))"
   ]
  },
  {
   "cell_type": "code",
   "execution_count": 127,
   "id": "ad3b2cde-3a37-4abf-9a26-6fad6ce13c16",
   "metadata": {},
   "outputs": [],
   "source": [
    "DFS(dial, [])"
   ]
  },
  {
   "cell_type": "code",
   "execution_count": 136,
   "id": "7f3f4778-34c5-42ef-80d3-eb1a201566e5",
   "metadata": {},
   "outputs": [],
   "source": [
    "T = Tree(list(dial.keys())[0])\n",
    "T.insert(res)"
   ]
  },
  {
   "cell_type": "code",
   "execution_count": 137,
   "id": "cc6fee1e-dfa5-40ba-95a3-d956e92398a2",
   "metadata": {},
   "outputs": [
    {
     "name": "stdout",
     "output_type": "stream",
     "text": [
      "Здравствуйте, я чат-бот, который поможет вам определить стоит ли вам останавливаться на выбранной планете. Напишите предпочитаемое имя планеты?\n"
     ]
    },
    {
     "name": "stdin",
     "output_type": "stream",
     "text": [
      " ыпвтаи\n"
     ]
    },
    {
     "name": "stdout",
     "output_type": "stream",
     "text": [
      "Для вас приемлема температура от 10 до 20 градусов Цельсия?\n"
     ]
    },
    {
     "name": "stdin",
     "output_type": "stream",
     "text": [
      " нет\n"
     ]
    },
    {
     "name": "stdout",
     "output_type": "stream",
     "text": [
      "К сожалению, данная планета вам не подойдет, хотели бы выбрать другую планету?\n"
     ]
    },
    {
     "name": "stdin",
     "output_type": "stream",
     "text": [
      " нет\n"
     ]
    },
    {
     "name": "stdout",
     "output_type": "stream",
     "text": [
      "До свидания!\n"
     ]
    }
   ],
   "source": [
    "T.dialog(\"Bert\")"
   ]
  }
 ],
 "metadata": {
  "kernelspec": {
   "display_name": "Python 3 (ipykernel)",
   "language": "python",
   "name": "python3"
  },
  "language_info": {
   "codemirror_mode": {
    "name": "ipython",
    "version": 3
   },
   "file_extension": ".py",
   "mimetype": "text/x-python",
   "name": "python",
   "nbconvert_exporter": "python",
   "pygments_lexer": "ipython3",
   "version": "3.10.0"
  }
 },
 "nbformat": 4,
 "nbformat_minor": 5
}
