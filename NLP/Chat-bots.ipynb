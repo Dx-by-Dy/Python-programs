{
 "cells": [
  {
   "cell_type": "code",
   "execution_count": 85,
   "id": "e904e533-58bf-4ae1-b47c-09322eb719f1",
   "metadata": {},
   "outputs": [],
   "source": [
    "class Node():\n",
    "    def __init__(self, question, parent, child=None, ans=None, end=False):\n",
    "        if child is not None and ans is not None:\n",
    "            self.children = {ans: child}\n",
    "        else:\n",
    "            self.children = {}\n",
    "\n",
    "        self.parent = parent\n",
    "        self.question = question\n",
    "        self.is_end = end\n",
    "\n",
    "    def __str__(self):\n",
    "        child = [(i, self.children[i].question) for i in self.children.keys()] if len(list(self.children.keys())) > 0 else None\n",
    "        return f\"question = {self.question}, is_end = {self.is_end}, parent = {self.parent.question if self.parent is not None else None}, children = {child}\\n\"\n",
    "\n",
    "    def add_child(self, node, ans):\n",
    "        self.children[ans] = node\n",
    "        return node\n",
    "\n",
    "    def get_child(self, ans):\n",
    "        return self.children[ans] if ans in self.children.keys() else None"
   ]
  },
  {
   "cell_type": "code",
   "execution_count": 91,
   "id": "409f91cd-5f26-40c3-9e07-c172f6528cfa",
   "metadata": {},
   "outputs": [],
   "source": [
    "class Tree():\n",
    "    def __init__(self, f_question):\n",
    "        self.root = Node(f_question, None)\n",
    "\n",
    "    def insert(self, line):\n",
    "        node = self.root\n",
    "        way = node.question\n",
    "        print(node)\n",
    "\n",
    "        for i in line:\n",
    "            way = f\"{way}.{i}\"\n",
    "            n_node = node.get_child(i)\n",
    "            if n_node is None:\n",
    "                node = node.add_child(Node(way, node), i)\n",
    "            else:\n",
    "                node = n_node\n",
    "            print(node.parent)\n",
    "\n",
    "        node.is_end = True\n",
    "        print(node)"
   ]
  },
  {
   "cell_type": "code",
   "execution_count": 35,
   "id": "520725f0-f19e-42eb-b414-9aef7469b237",
   "metadata": {},
   "outputs": [
    {
     "data": {
      "text/plain": [
       "['0.1.0.0.0', '0.1.0.0.1', '0.1.0.0.2']"
      ]
     },
     "execution_count": 35,
     "metadata": {},
     "output_type": "execute_result"
    }
   ],
   "source": [
    "from random import randint as r\n",
    "\n",
    "n = 4\n",
    "levels = [[\"0\"]]\n",
    "\n",
    "for i in range(n):\n",
    "    n_level = []\n",
    "    for j in levels[i]:\n",
    "        nchild = r(0, 4)\n",
    "        if nchild > 0:\n",
    "            for k in range(nchild):\n",
    "                n_level += [f\"{j}.{k}\"]\n",
    "    if n_level == []:\n",
    "        break\n",
    "    levels += [n_level]\n",
    "\n",
    "levels[-1]"
   ]
  },
  {
   "cell_type": "code",
   "execution_count": 92,
   "id": "b7a1c6af-c487-4cee-8918-19dfe1bd9d68",
   "metadata": {},
   "outputs": [],
   "source": [
    "T = Tree(\"0\")"
   ]
  },
  {
   "cell_type": "code",
   "execution_count": 93,
   "id": "0fee54ca-5b54-44ac-9358-dff2fe7dc76c",
   "metadata": {},
   "outputs": [
    {
     "name": "stdout",
     "output_type": "stream",
     "text": [
      "question = 0, is_end = False, parent = None, children = None\n",
      "\n",
      "question = 0, is_end = False, parent = None, children = [('1', '0.1')]\n",
      "\n",
      "question = 0.1, is_end = False, parent = 0, children = [('0', '0.1.0')]\n",
      "\n",
      "question = 0.1.0, is_end = False, parent = 0.1, children = [('0', '0.1.0.0')]\n",
      "\n",
      "question = 0.1.0.0, is_end = False, parent = 0.1.0, children = [('0', '0.1.0.0.0')]\n",
      "\n",
      "question = 0.1.0.0.0, is_end = True, parent = 0.1.0.0, children = None\n",
      "\n"
     ]
    }
   ],
   "source": [
    "T.insert('1.0.0.0'.split(\".\"))"
   ]
  },
  {
   "cell_type": "code",
   "execution_count": 94,
   "id": "ab1afb26-073b-49a0-8125-ac697773e715",
   "metadata": {},
   "outputs": [
    {
     "name": "stdout",
     "output_type": "stream",
     "text": [
      "question = 0, is_end = False, parent = None, children = [('1', '0.1')]\n",
      "\n",
      "question = 0, is_end = False, parent = None, children = [('1', '0.1')]\n",
      "\n",
      "question = 0.1, is_end = False, parent = 0, children = [('0', '0.1.0')]\n",
      "\n",
      "question = 0.1.0, is_end = False, parent = 0.1, children = [('0', '0.1.0.0'), ('1', '0.1.0.1')]\n",
      "\n",
      "question = 0.1.0.1, is_end = False, parent = 0.1.0, children = [('0', '0.1.0.1.0')]\n",
      "\n",
      "question = 0.1.0.1.0, is_end = True, parent = 0.1.0.1, children = None\n",
      "\n"
     ]
    }
   ],
   "source": [
    "T.insert('1.0.1.0'.split(\".\"))"
   ]
  }
 ],
 "metadata": {
  "kernelspec": {
   "display_name": "Python 3 (ipykernel)",
   "language": "python",
   "name": "python3"
  },
  "language_info": {
   "codemirror_mode": {
    "name": "ipython",
    "version": 3
   },
   "file_extension": ".py",
   "mimetype": "text/x-python",
   "name": "python",
   "nbconvert_exporter": "python",
   "pygments_lexer": "ipython3",
   "version": "3.10.0"
  }
 },
 "nbformat": 4,
 "nbformat_minor": 5
}
