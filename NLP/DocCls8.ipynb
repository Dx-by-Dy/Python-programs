{
 "cells": [
  {
   "cell_type": "code",
   "execution_count": 112,
   "id": "522e0723-2879-410c-8e03-566890b7884f",
   "metadata": {
    "tags": []
   },
   "outputs": [],
   "source": [
    "from sklearn.datasets import fetch_20newsgroups\n",
    "from sklearn import metrics\n",
    "# from sklearn.metrics import f1_score\n",
    "from sklearn.cluster import KMeans, DBSCAN, AgglomerativeClustering\n",
    "\n",
    "import nltk\n",
    "from nltk.corpus import stopwords\n",
    "from nltk.stem import WordNetLemmatizer\n",
    "from gensim import corpora, models\n",
    "from gensim.models import TfidfModel\n",
    "import re\n",
    "\n",
    "import warnings\n",
    "warnings.filterwarnings(\"ignore\")\n",
    "\n",
    "lemmatizer = WordNetLemmatizer()\n",
    "newsgroups_train = fetch_20newsgroups(subset='all',\n",
    "                                      categories=['alt.atheism',\n",
    "                                                  # 'comp.graphics',\n",
    "                                                  # 'comp.os.ms-windows.misc',\n",
    "                                                  'comp.sys.ibm.pc.hardware',\n",
    "                                                  # 'comp.sys.mac.hardware',\n",
    "                                                  # 'comp.windows.x',\n",
    "                                                  # 'misc.forsale',\n",
    "                                                  'rec.autos',\n",
    "                                                  # 'rec.motorcycles',\n",
    "                                                  'rec.sport.baseball'],\n",
    "                                      remove=(\"header\",))"
   ]
  },
  {
   "cell_type": "code",
   "execution_count": 114,
   "id": "d867610a-d49c-4118-8f65-a829af5a192d",
   "metadata": {
    "tags": []
   },
   "outputs": [],
   "source": [
    "def get_res(dataset):\n",
    "\n",
    "    results = [KMeans(n_clusters=4, random_state=42).fit(dataset),\n",
    "               DBSCAN(eps=0.3, min_samples=5).fit(dataset),\n",
    "               AgglomerativeClustering(n_clusters=4).fit(dataset)]\n",
    "\n",
    "    names = [\"K-means\", \"DBSCAN\", \"AgglomerativeClustering\"]\n",
    "\n",
    "    for i in range(len(results)):\n",
    "        res = results[i]\n",
    "        name = names[i]\n",
    "\n",
    "        acc = metrics.homogeneity_completeness_v_measure(newsgroups_train.target, res.labels_)\n",
    "        print_acc(name, \"HCV-measure\", acc, next_res=False, end=False)\n",
    "\n",
    "        acc = metrics.silhouette_score(dataset, res.labels_, metric='euclidean')\n",
    "        print_acc(name, \"Silhouette-score\", acc, next_res=True, end=False)\n",
    "\n",
    "        acc = metrics.fowlkes_mallows_score(newsgroups_train.target, res.labels_)\n",
    "        print_acc(name, \"Fowlkes-Mallows-score\", acc, next_res=True, end=True)\n",
    "\n",
    "        if i < len(results) - 1:\n",
    "            print(\"-\" * 45)"
   ]
  },
  {
   "cell_type": "code",
   "execution_count": 64,
   "id": "c59b0982-e8f2-46d9-a9c8-87c29f735298",
   "metadata": {
    "tags": []
   },
   "outputs": [],
   "source": [
    "def print_acc(name_method, name_metric, acc, next_res=False, end=True):\n",
    "\n",
    "    if not next_res:\n",
    "        print(name_method)\n",
    "    else:\n",
    "        print()\n",
    "    len_space_method = len(name_method) // 2\n",
    "    size = 40\n",
    "\n",
    "    if end:\n",
    "        sym = \"└\"\n",
    "    else:\n",
    "        sym = \"├\"\n",
    "\n",
    "    if name_metric == \"HCV-measure\":\n",
    "        len_space_metric = len_space_method + len(\"HCV-measure\") // 2 + 5\n",
    "        print(\" \" * len_space_method + sym + \"─── HCV-measure\")\n",
    "\n",
    "        text = \" \" * len_space_metric + \"├─── H-score:\"\n",
    "        num_space = size - len(text)\n",
    "\n",
    "        print(\" \" * len_space_metric + \"├─── H-score:\" + \" \" * num_space + f\"{round(acc[0], 3)}\")\n",
    "        print(\" \" * len_space_metric + \"├─── C-score:\" + \" \" * num_space + f\"{round(acc[1], 3)}\")\n",
    "        print(\" \" * len_space_metric + \"└─── V-score:\" + \" \" * num_space + f\"{round(acc[2], 3)}\")\n",
    "    else:\n",
    "        text = \" \" * len_space_method + sym + f\"─── {name_metric}:\"\n",
    "        text += \" \" * (size - len(text))\n",
    "        print(f\"{text}{round(acc, 3)}\")"
   ]
  },
  {
   "cell_type": "code",
   "execution_count": 2,
   "id": "f5bb0c62-43ec-40d4-bc7c-77e9985beeb8",
   "metadata": {
    "tags": []
   },
   "outputs": [],
   "source": [
    "num_reg_exp = r'[-+]?(?:\\d+(?:\\.\\d*)?|\\.\\d+)(?:[eE][-+]?\\d+)?'\n",
    "special_sym = [\"(\", \")\", \":\", \"@\", \"?\", \",\", \"|\", \">\", \"<\", \"]\", \"\\'\", \"{\", \"/\", \"^\"\n",
    "               \"[\", \".\", \"``\", \"\\'\\'\", \"--\", \"!\", \"-\", \"*\", \"..\", \"$\", \"}\", \"#\", \"=\"]\n",
    "stop_words = stopwords.words('english') + special_sym\n",
    "\n",
    "\n",
    "def delete_stopword_and_lemmatize(listw):\n",
    "    res = []\n",
    "    for word in listw:\n",
    "        word = lemmatizer.lemmatize(word.lower())\n",
    "        if word not in stop_words and re.fullmatch(num_reg_exp, word) is None\\\n",
    "            and not any(sym in word for sym in special_sym):\n",
    "            res += [word]\n",
    "    return res"
   ]
  },
  {
   "cell_type": "code",
   "execution_count": 3,
   "id": "b8bd22e7-46eb-4ce4-bb77-bd16467dfae9",
   "metadata": {
    "tags": []
   },
   "outputs": [],
   "source": [
    "def get_lsi(corpus, dictn):\n",
    "    lsi_model = models.LsiModel(corpus=corpus, num_topics=20, id2word=dictn)\n",
    "    lsi_res = []\n",
    "    for i in range(len(corpus)):\n",
    "        lsi_res += [[val[1] for val in lsi_model[corpus[i]]]]\n",
    "    return lsi_res"
   ]
  },
  {
   "cell_type": "code",
   "execution_count": 5,
   "id": "9e6a7389-b002-473e-bec8-77131d75998b",
   "metadata": {
    "tags": []
   },
   "outputs": [],
   "source": [
    "tokenize_data = [delete_stopword_and_lemmatize(nltk.word_tokenize(newsgroups_train.data[i]))\n",
    "                 for i in range(len(newsgroups_train.data))]"
   ]
  },
  {
   "cell_type": "code",
   "execution_count": 6,
   "id": "dfe78adf-a974-4e32-b748-3ca160d34b3f",
   "metadata": {
    "tags": []
   },
   "outputs": [],
   "source": [
    "dictn = corpora.Dictionary(tokenize_data)\n",
    "dictn.filter_extremes(keep_n=1000)\n",
    "\n",
    "bow = [dictn.doc2bow(doc) for doc in tokenize_data]\n",
    "\n",
    "model = TfidfModel(bow)\n",
    "tfidf = [model[doc] for doc in bow]\n",
    "lsi = get_lsi(tfidf, dictn)"
   ]
  },
  {
   "cell_type": "code",
   "execution_count": 115,
   "id": "5e28fa17-6a08-4814-ab7f-bd3a7dc410c4",
   "metadata": {
    "tags": []
   },
   "outputs": [
    {
     "name": "stdout",
     "output_type": "stream",
     "text": [
      "K-means\n",
      "   ├─── HCV-measure\n",
      "             ├─── H-score:              0.59\n",
      "             ├─── C-score:              0.662\n",
      "             └─── V-score:              0.624\n",
      "\n",
      "   ├─── Silhouette-score:               0.141\n",
      "\n",
      "   └─── Fowlkes-Mallows-score:          0.635\n",
      "---------------------------------------------\n",
      "DBSCAN\n",
      "   ├─── HCV-measure\n",
      "             ├─── H-score:              0.001\n",
      "             ├─── C-score:              0.054\n",
      "             └─── V-score:              0.002\n",
      "\n",
      "   ├─── Silhouette-score:               0.304\n",
      "\n",
      "   └─── Fowlkes-Mallows-score:          0.5\n",
      "---------------------------------------------\n",
      "AgglomerativeClustering\n",
      "           ├─── HCV-measure\n",
      "                     ├─── H-score:      0.515\n",
      "                     ├─── C-score:      0.624\n",
      "                     └─── V-score:      0.565\n",
      "\n",
      "           ├─── Silhouette-score:       0.144\n",
      "\n",
      "           └─── Fowlkes-Mallows-score:  0.6\n"
     ]
    }
   ],
   "source": [
    "get_res(lsi)"
   ]
  }
 ],
 "metadata": {
  "kernelspec": {
   "display_name": "Python 3 (ipykernel)",
   "language": "python",
   "name": "python3"
  },
  "language_info": {
   "codemirror_mode": {
    "name": "ipython",
    "version": 3
   },
   "file_extension": ".py",
   "mimetype": "text/x-python",
   "name": "python",
   "nbconvert_exporter": "python",
   "pygments_lexer": "ipython3",
   "version": "3.10.7"
  }
 },
 "nbformat": 4,
 "nbformat_minor": 5
}
