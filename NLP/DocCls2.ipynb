{
 "cells": [
  {
   "cell_type": "code",
   "execution_count": 2,
   "id": "1cf28125-e88b-4aa1-9570-d8e78794e935",
   "metadata": {
    "tags": []
   },
   "outputs": [],
   "source": [
    "from sklearn.datasets import fetch_20newsgroups\n",
    "from sklearn.model_selection import train_test_split\n",
    "from sklearn.metrics import f1_score\n",
    "from sklearn.tree import DecisionTreeClassifier\n",
    "import nltk\n",
    "from nltk.corpus import stopwords\n",
    "from nltk.stem import WordNetLemmatizer\n",
    "from gensim import corpora, models\n",
    "from gensim.models import TfidfModel\n",
    "import re\n",
    "\n",
    "lemmatizer = WordNetLemmatizer()\n",
    "newsgroups_train = fetch_20newsgroups(subset='all',\n",
    "                                      categories=['alt.atheism',\n",
    "                                                  # 'comp.graphics',\n",
    "                                                  # 'comp.os.ms-windows.misc',\n",
    "                                                  'comp.sys.ibm.pc.hardware',\n",
    "                                                  # 'comp.sys.mac.hardware',\n",
    "                                                  # 'comp.windows.x',\n",
    "                                                  'misc.forsale',\n",
    "                                                  'rec.autos',\n",
    "                                                  # 'rec.motorcycles',\n",
    "                                                  'rec.sport.baseball'])"
   ]
  },
  {
   "cell_type": "code",
   "execution_count": 16,
   "id": "62d48f8e-d899-4cca-bb63-b82d3f44c417",
   "metadata": {
    "tags": []
   },
   "outputs": [],
   "source": [
    "num_reg_exp = r'[-+]?(?:\\d+(?:\\.\\d*)?|\\.\\d+)(?:[eE][-+]?\\d+)?'\n",
    "special_sym = [\"(\", \")\", \":\", \"@\", \"?\", \",\", \"|\", \">\", \"<\", \"]\", \"\\'\", \"{\", \"/\",\n",
    "               \"[\", \".\", \"``\", \"\\'\\'\", \"--\", \"!\", \"-\", \"*\", \"..\", \"$\", \"}\", \"#\"]\n",
    "stop_words = stopwords.words('english') + special_sym\n",
    "\n",
    "\n",
    "def delete_stopword(listw):\n",
    "    res = []\n",
    "    for word in listw:\n",
    "        word = word.lower()\n",
    "        if word not in stop_words and re.fullmatch(num_reg_exp, word) is None and not any(sym in word for sym in special_sym):\n",
    "            res += [word]\n",
    "    return res"
   ]
  },
  {
   "cell_type": "code",
   "execution_count": 24,
   "id": "fc2dbc28-fee9-4f71-bf24-da17c3a2b703",
   "metadata": {
    "tags": []
   },
   "outputs": [],
   "source": [
    "def split_data(x):\n",
    "    return train_test_split(x, newsgroups_train.target, test_size=0.2, random_state=42)"
   ]
  },
  {
   "cell_type": "code",
   "execution_count": 33,
   "id": "ef13b935-19af-4e48-86bf-0788148953c9",
   "metadata": {
    "tags": []
   },
   "outputs": [],
   "source": [
    "tokenize_data = [nltk.word_tokenize(newsgroups_train.data[i])\n",
    "                 for i in range(len(newsgroups_train.data))]"
   ]
  },
  {
   "cell_type": "code",
   "execution_count": 34,
   "id": "238ff650-9730-401b-8b7d-5135b44f72bf",
   "metadata": {
    "tags": []
   },
   "outputs": [],
   "source": [
    "tokenize_data = [delete_stopword(tokenize_data[i])\n",
    "                 for i in range(len(tokenize_data))]"
   ]
  },
  {
   "cell_type": "code",
   "execution_count": 35,
   "id": "6ad24c62-d8b5-4b16-bdeb-23c5ca26b00e",
   "metadata": {
    "tags": []
   },
   "outputs": [],
   "source": [
    "tokenize_data = [list(map(lemmatizer.lemmatize, tokenize_data[i]))\n",
    "                 for i in range(len(tokenize_data))]"
   ]
  },
  {
   "cell_type": "code",
   "execution_count": 36,
   "id": "52204a00-7f59-4f74-9efb-17788a6c9df8",
   "metadata": {
    "tags": []
   },
   "outputs": [],
   "source": [
    "dictn = corpora.Dictionary(tokenize_data)\n",
    "corpus = [dictn.doc2bow(doc) for doc in tokenize_data]\n",
    "\n",
    "model = TfidfModel(corpus)\n",
    "tfidf_corpus = [model[doc] for doc in corpus]\n",
    "lsi_model = models.LsiModel(corpus=tfidf_corpus, num_topics=20, id2word=dictn)"
   ]
  },
  {
   "cell_type": "code",
   "execution_count": 37,
   "id": "bab8fba4-520e-45c9-846c-1ac1f7090a0d",
   "metadata": {
    "tags": []
   },
   "outputs": [
    {
     "name": "stdout",
     "output_type": "stream",
     "text": [
      "(0, '0.149*\"drive\" + 0.126*\"car\" + 0.107*\"would\" + 0.107*\"game\" + 0.105*\"scsi\" + 0.099*\"one\" + 0.089*\"year\" + 0.087*\"think\" + 0.086*\"ide\" + 0.086*\"god\"')\n",
      "(1, '0.362*\"drive\" + 0.355*\"scsi\" + 0.282*\"ide\" + 0.182*\"controller\" + 0.141*\"card\" + 0.140*\"disk\" + 0.126*\"bus\" + -0.115*\"god\" + 0.110*\"hard\" + 0.091*\"pc\"')\n",
      "(2, '-0.239*\"game\" + 0.224*\"god\" + 0.176*\"keith\" + -0.172*\"team\" + 0.159*\"atheist\" + 0.154*\"livesey\" + 0.139*\"moral\" + 0.133*\"morality\" + -0.120*\"player\" + 0.111*\"religion\"')\n",
      "(3, '-0.372*\"car\" + 0.259*\"scsi\" + 0.189*\"ide\" + 0.167*\"game\" + 0.152*\"team\" + -0.123*\"engine\" + 0.123*\"drive\" + -0.105*\"sale\" + -0.101*\"price\" + 0.098*\"controller\"')\n",
      "(4, '-0.304*\"car\" + -0.285*\"scsi\" + -0.195*\"ide\" + 0.188*\"card\" + 0.179*\"sale\" + 0.160*\"modem\" + 0.154*\"monitor\" + -0.144*\"drive\" + 0.124*\"port\" + -0.115*\"engine\"')\n"
     ]
    }
   ],
   "source": [
    "lsi_topics = lsi_model.print_topics(5, 10)\n",
    "for topic in lsi_topics:\n",
    "    print(topic)"
   ]
  },
  {
   "cell_type": "code",
   "execution_count": 38,
   "id": "bffc8a02-3aa0-4d38-b56b-a0df6c0050f5",
   "metadata": {
    "tags": []
   },
   "outputs": [
    {
     "name": "stdout",
     "output_type": "stream",
     "text": [
      "[0.15143992853693206, 0.11363973659065095, -0.008078373834524312, -0.03973219747617656, 0.09728297231650411, -0.005544668444605429, -0.07259687093127483, 0.0020017166154886966, -0.014715945161779986, -0.004783723507454937, 0.0374402021042733, 0.005652878179057426, -0.003220218812507732, 0.01623850501452431, -0.004758589204285226, -0.030105179190181967, 0.009188308712651172, -0.01024088570539909, 0.0049509812510017065, -0.03728570470725917]\n"
     ]
    }
   ],
   "source": [
    "dataset = []\n",
    "for i in range(len(tfidf_corpus)):\n",
    "    dataset += [[val[1] for val in lsi_model[tfidf_corpus[i]]]]\n",
    "print(dataset[0])"
   ]
  },
  {
   "cell_type": "code",
   "execution_count": 39,
   "id": "7aeae11f-3656-448f-b390-4d927fce55bc",
   "metadata": {
    "tags": []
   },
   "outputs": [
    {
     "name": "stdout",
     "output_type": "stream",
     "text": [
      "0.898\n"
     ]
    }
   ],
   "source": [
    "x_train, x_test, y_train, y_test = split_data(dataset)\n",
    "clf = DecisionTreeClassifier(random_state=42, max_depth=20)\n",
    "clf.fit(x_train, y_train)\n",
    "acc_test = f1_score(y_true=y_test, y_pred=clf.predict(x_test), average=\"micro\")\n",
    "print(round(acc_test, 3))"
   ]
  },
  {
   "cell_type": "code",
   "execution_count": 142,
   "id": "5ca88595-c220-4367-92b1-7949c0e89a4a",
   "metadata": {
    "tags": []
   },
   "outputs": [
    {
     "name": "stdout",
     "output_type": "stream",
     "text": [
      "3996 0.20318114629433662\n",
      "From: ralf@iqsc.COM (Ralf)\n",
      "Subject: Items For Sale\n",
      "Organization: IQ Software Corp.\n",
      "Lines: 24\n",
      "\n",
      "  ITEMS FOR SALE - PRICE LISTED OR BEST OFFER!!!!!!!\n",
      "\n",
      "KFC SVGA Monitor 1024X768 .28DP Non-interlaced 14\" \n",
      "Screen, still under warranty! (Brand New)          $ 290.00\n",
      "\n",
      "1200 Baud Compuadd Modem Box/docs/software         $  20.00\n",
      "\n",
      "CGA Monitor with Cga/Parallel Card                 $  30.00\n",
      "\n",
      "SCO UNIX V3.2.2 Unlimited User OS, has the base\n",
      "and extended Utilities, and UUCP                   $ 150.00\n",
      "\n",
      "Turbo C/Turbo C++ The complete reference book.     $  15.00\n",
      "\n",
      "Serial I/O Card  1 serial Port                     $  10.00\n",
      "\n",
      "Joystick, three button                             $  10.00\n",
      "\n",
      "IDE Controller with 2 Serial, 1 parallel and one\n",
      "Game port  2 available.                            $  10.00Each\n",
      "\n",
      "(210)545-4741, ask for Ralf\n",
      "\n",
      "\n",
      "\n"
     ]
    }
   ],
   "source": [
    "idx_doc = 0\n",
    "max_val = -100\n",
    "for i in range(len(tfidf_corpus)):\n",
    "    value = lsi_model[tfidf_corpus[i]][4][1]\n",
    "    if value > max_val:\n",
    "        max_val = value\n",
    "        idx_doc = i\n",
    "\n",
    "print(idx_doc, max_val)\n",
    "print(newsgroups_train.data[idx_doc])"
   ]
  }
 ],
 "metadata": {
  "kernelspec": {
   "display_name": "Python 3 (ipykernel)",
   "language": "python",
   "name": "python3"
  },
  "language_info": {
   "codemirror_mode": {
    "name": "ipython",
    "version": 3
   },
   "file_extension": ".py",
   "mimetype": "text/x-python",
   "name": "python",
   "nbconvert_exporter": "python",
   "pygments_lexer": "ipython3",
   "version": "3.10.7"
  }
 },
 "nbformat": 4,
 "nbformat_minor": 5
}
