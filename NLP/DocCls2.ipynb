{
 "cells": [
  {
   "cell_type": "code",
   "execution_count": 126,
   "id": "1cf28125-e88b-4aa1-9570-d8e78794e935",
   "metadata": {
    "tags": []
   },
   "outputs": [],
   "source": [
    "from sklearn.datasets import fetch_20newsgroups\n",
    "import nltk\n",
    "from nltk.corpus import stopwords\n",
    "from nltk.stem import WordNetLemmatizer\n",
    "from gensim import corpora, models\n",
    "from gensim.models import TfidfModel\n",
    "import re\n",
    "\n",
    "lemmatizer = WordNetLemmatizer()\n",
    "newsgroups_train = fetch_20newsgroups(subset='all',\n",
    "                                      categories=['alt.atheism',\n",
    "                                                  # 'comp.graphics',\n",
    "                                                  # 'comp.os.ms-windows.misc',\n",
    "                                                  'comp.sys.ibm.pc.hardware',\n",
    "                                                  # 'comp.sys.mac.hardware',\n",
    "                                                  # 'comp.windows.x',\n",
    "                                                  'misc.forsale',\n",
    "                                                  'rec.autos',\n",
    "                                                  # 'rec.motorcycles',\n",
    "                                                  'rec.sport.baseball'])"
   ]
  },
  {
   "cell_type": "code",
   "execution_count": 89,
   "id": "62d48f8e-d899-4cca-bb63-b82d3f44c417",
   "metadata": {
    "tags": []
   },
   "outputs": [],
   "source": [
    "num_reg_exp = r'[-+]?(?:\\d+(?:\\.\\d*)?|\\.\\d+)(?:[eE][-+]?\\d+)?'\n",
    "special_sym = [\"(\", \")\", \":\", \"@\", \"?\", \",\", \"|\", \">\", \"<\", \"]\", \"\\'\", \"{\", \"/\",\n",
    "               \"[\", \".\", \"``\", \"\\'\\'\", \"--\", \"!\", \"-\", \"*\", \"..\", \"$\", \"}\", \"#\"]\n",
    "stop_words = stopwords.words('english') + special_sym\n",
    "\n",
    "\n",
    "def delete_stopword(listw):\n",
    "    res = []\n",
    "    for word in listw:\n",
    "        word = word.lower()\n",
    "        if word not in stop_words and re.fullmatch(num_reg_exp, word) is None and not any(sym in word for sym in special_sym):\n",
    "            res += [word]\n",
    "    return res"
   ]
  },
  {
   "cell_type": "code",
   "execution_count": 128,
   "id": "ef13b935-19af-4e48-86bf-0788148953c9",
   "metadata": {
    "tags": []
   },
   "outputs": [],
   "source": [
    "tokenize_data = [nltk.word_tokenize(newsgroups_train.data[i])\n",
    "                 for i in range(len(newsgroups_train.data))]"
   ]
  },
  {
   "cell_type": "code",
   "execution_count": 129,
   "id": "238ff650-9730-401b-8b7d-5135b44f72bf",
   "metadata": {
    "tags": []
   },
   "outputs": [],
   "source": [
    "tokenize_data = [delete_stopword(tokenize_data[i])\n",
    "                 for i in range(len(tokenize_data))]"
   ]
  },
  {
   "cell_type": "code",
   "execution_count": 130,
   "id": "6ad24c62-d8b5-4b16-bdeb-23c5ca26b00e",
   "metadata": {
    "tags": []
   },
   "outputs": [],
   "source": [
    "tokenize_data = [list(map(lemmatizer.lemmatize, tokenize_data[i]))\n",
    "                 for i in range(len(tokenize_data))]"
   ]
  },
  {
   "cell_type": "code",
   "execution_count": 131,
   "id": "52204a00-7f59-4f74-9efb-17788a6c9df8",
   "metadata": {
    "tags": []
   },
   "outputs": [],
   "source": [
    "dictn = corpora.Dictionary(tokenize_data)\n",
    "corpus = [dictn.doc2bow(doc) for doc in tokenize_data]\n",
    "\n",
    "model = TfidfModel(corpus)\n",
    "tfidf_corpus = [model[doc] for doc in corpus]\n",
    "lsi_model = models.LsiModel(corpus=tfidf_corpus, num_topics=5, id2word=dictn)"
   ]
  },
  {
   "cell_type": "code",
   "execution_count": 132,
   "id": "bab8fba4-520e-45c9-846c-1ac1f7090a0d",
   "metadata": {
    "tags": []
   },
   "outputs": [
    {
     "name": "stdout",
     "output_type": "stream",
     "text": [
      "(0, '0.149*\"drive\" + 0.126*\"car\" + 0.107*\"would\" + 0.107*\"game\" + 0.105*\"scsi\" + 0.098*\"one\" + 0.089*\"year\" + 0.087*\"think\" + 0.086*\"ide\" + 0.086*\"get\"')\n",
      "(1, '-0.363*\"drive\" + -0.354*\"scsi\" + -0.282*\"ide\" + -0.182*\"controller\" + -0.140*\"disk\" + -0.140*\"card\" + -0.127*\"bus\" + 0.115*\"god\" + -0.110*\"hard\" + -0.092*\"pc\"')\n",
      "(2, '0.237*\"game\" + -0.223*\"god\" + -0.175*\"keith\" + 0.173*\"team\" + -0.160*\"atheist\" + -0.154*\"livesey\" + -0.139*\"moral\" + -0.134*\"morality\" + 0.121*\"player\" + -0.111*\"religion\"')\n",
      "(3, '-0.370*\"car\" + 0.259*\"scsi\" + 0.193*\"ide\" + 0.169*\"game\" + 0.151*\"team\" + -0.122*\"engine\" + 0.122*\"drive\" + -0.103*\"sale\" + -0.100*\"price\" + 0.098*\"controller\"')\n",
      "(4, '-0.308*\"car\" + -0.287*\"scsi\" + -0.189*\"ide\" + 0.182*\"card\" + 0.180*\"sale\" + 0.170*\"modem\" + 0.159*\"monitor\" + -0.149*\"drive\" + 0.125*\"port\" + -0.114*\"engine\"')\n"
     ]
    }
   ],
   "source": [
    "lsi_topics = lsi_model.print_topics(5, 10)\n",
    "for topic in lsi_topics:\n",
    "    print(topic)"
   ]
  },
  {
   "cell_type": "code",
   "execution_count": 133,
   "id": "df36e52c-f1fc-4827-ba91-a681db3b2334",
   "metadata": {
    "tags": []
   },
   "outputs": [
    {
     "name": "stdout",
     "output_type": "stream",
     "text": [
      "Doc Index: 0, Topic Vector: [(0, 0.15151735935051247), (1, -0.11383056800484564), (2, 0.005119569201244371), (3, -0.039857019829875676), (4, 0.08761025527287739)]\n",
      "Doc Index: 1, Topic Vector: [(0, 0.09930162345411232), (1, -0.023165984274095896), (2, 0.010791567144904816), (3, -0.03464169589832715), (4, 0.03584506590689165)]\n",
      "Doc Index: 2, Topic Vector: [(0, 0.0953593973574975), (1, -0.07449306503570832), (2, 0.01665577923638875), (3, -0.0535742003332249), (4, 0.12819760869894087)]\n",
      "Doc Index: 3, Topic Vector: [(0, 0.1367595326312493), (1, 0.02655179285240384), (2, 0.013351244956937252), (3, -0.21846570308518384), (4, -0.16438919222017676)]\n",
      "Doc Index: 4, Topic Vector: [(0, 0.06027885431560701), (1, -0.009641001020987897), (2, 0.025999668450678984), (3, -0.047063559756884095), (4, 0.06053267689842014)]\n",
      "Doc Index: 5, Topic Vector: [(0, 0.12518648568456606), (1, -0.1223388750426365), (2, -0.004568951829133662), (3, 0.0018349773645327501), (4, -0.027324303295748455)]\n",
      "Doc Index: 6, Topic Vector: [(0, 0.070425649532307), (1, 0.015149540811296592), (2, 0.013678251585312917), (3, -0.09507913160868639), (4, -0.045313605004139945)]\n",
      "Doc Index: 7, Topic Vector: [(0, 0.11057864720160143), (1, 0.07004067902280049), (2, -0.13151386046269747), (3, 0.024904488516216915), (4, 0.029159237775958503)]\n",
      "Doc Index: 8, Topic Vector: [(0, 0.11191814292521575), (1, 0.06516906126696635), (2, -0.07860389166692375), (3, 0.009087522331795508), (4, 0.008018153581305839)]\n",
      "Doc Index: 9, Topic Vector: [(0, 0.1233754151265242), (1, 0.05558916991819401), (2, 0.10590814400472623), (3, 0.06385417505889832), (4, -0.012069499220113212)]\n"
     ]
    }
   ],
   "source": [
    "for i in range(10):\n",
    "    print(f\"Doc Index: {i}, Topic Vector: {lsi_model[tfidf_corpus[i]]}\")"
   ]
  },
  {
   "cell_type": "code",
   "execution_count": 142,
   "id": "5ca88595-c220-4367-92b1-7949c0e89a4a",
   "metadata": {
    "tags": []
   },
   "outputs": [
    {
     "name": "stdout",
     "output_type": "stream",
     "text": [
      "3996 0.20318114629433662\n",
      "From: ralf@iqsc.COM (Ralf)\n",
      "Subject: Items For Sale\n",
      "Organization: IQ Software Corp.\n",
      "Lines: 24\n",
      "\n",
      "  ITEMS FOR SALE - PRICE LISTED OR BEST OFFER!!!!!!!\n",
      "\n",
      "KFC SVGA Monitor 1024X768 .28DP Non-interlaced 14\" \n",
      "Screen, still under warranty! (Brand New)          $ 290.00\n",
      "\n",
      "1200 Baud Compuadd Modem Box/docs/software         $  20.00\n",
      "\n",
      "CGA Monitor with Cga/Parallel Card                 $  30.00\n",
      "\n",
      "SCO UNIX V3.2.2 Unlimited User OS, has the base\n",
      "and extended Utilities, and UUCP                   $ 150.00\n",
      "\n",
      "Turbo C/Turbo C++ The complete reference book.     $  15.00\n",
      "\n",
      "Serial I/O Card  1 serial Port                     $  10.00\n",
      "\n",
      "Joystick, three button                             $  10.00\n",
      "\n",
      "IDE Controller with 2 Serial, 1 parallel and one\n",
      "Game port  2 available.                            $  10.00Each\n",
      "\n",
      "(210)545-4741, ask for Ralf\n",
      "\n",
      "\n",
      "\n"
     ]
    }
   ],
   "source": [
    "idx_doc = 0\n",
    "max_val = -100\n",
    "for i in range(len(tfidf_corpus)):\n",
    "    value = lsi_model[tfidf_corpus[i]][4][1]\n",
    "    if value > max_val:\n",
    "        max_val = value\n",
    "        idx_doc = i\n",
    "\n",
    "print(idx_doc, max_val)\n",
    "print(newsgroups_train.data[idx_doc])"
   ]
  }
 ],
 "metadata": {
  "kernelspec": {
   "display_name": "Python 3 (ipykernel)",
   "language": "python",
   "name": "python3"
  },
  "language_info": {
   "codemirror_mode": {
    "name": "ipython",
    "version": 3
   },
   "file_extension": ".py",
   "mimetype": "text/x-python",
   "name": "python",
   "nbconvert_exporter": "python",
   "pygments_lexer": "ipython3",
   "version": "3.10.7"
  }
 },
 "nbformat": 4,
 "nbformat_minor": 5
}
