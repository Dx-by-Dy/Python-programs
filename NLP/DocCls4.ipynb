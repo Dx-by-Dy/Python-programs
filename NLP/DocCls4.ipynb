{
 "cells": [
  {
   "cell_type": "code",
   "execution_count": 83,
   "id": "806a37cc-b85b-4d33-9476-1476bd7a255f",
   "metadata": {
    "tags": []
   },
   "outputs": [],
   "source": [
    "from sklearn.datasets import fetch_20newsgroups\n",
    "from sklearn.model_selection import train_test_split\n",
    "from sklearn.metrics import f1_score\n",
    "from sklearn.ensemble import RandomForestClassifier, GradientBoostingClassifier, AdaBoostClassifier\n",
    "import nltk\n",
    "from nltk.corpus import stopwords\n",
    "from nltk.stem import WordNetLemmatizer\n",
    "from gensim import corpora, models\n",
    "from gensim.models import TfidfModel\n",
    "import re\n",
    "\n",
    "lemmatizer = WordNetLemmatizer()\n",
    "newsgroups_train = fetch_20newsgroups(subset='all',\n",
    "                                      categories=['alt.atheism',\n",
    "                                                  # 'comp.graphics',\n",
    "                                                  # 'comp.os.ms-windows.misc',\n",
    "                                                  'comp.sys.ibm.pc.hardware',\n",
    "                                                  # 'comp.sys.mac.hardware',\n",
    "                                                  # 'comp.windows.x',\n",
    "                                                  'misc.forsale',\n",
    "                                                  'rec.autos',\n",
    "                                                  # 'rec.motorcycles',\n",
    "                                                  'rec.sport.baseball'],\n",
    "                                      remove=(\"header\",))"
   ]
  },
  {
   "cell_type": "code",
   "execution_count": 2,
   "id": "25211e44-89c6-46da-b79a-ec81ca21afb1",
   "metadata": {
    "tags": []
   },
   "outputs": [],
   "source": [
    "num_reg_exp = r'[-+]?(?:\\d+(?:\\.\\d*)?|\\.\\d+)(?:[eE][-+]?\\d+)?'\n",
    "special_sym = [\"(\", \")\", \":\", \"@\", \"?\", \",\", \"|\", \">\", \"<\", \"]\", \"\\'\", \"{\", \"/\", \"^\"\n",
    "               \"[\", \".\", \"``\", \"\\'\\'\", \"--\", \"!\", \"-\", \"*\", \"..\", \"$\", \"}\", \"#\", \"=\"]\n",
    "stop_words = stopwords.words('english') + special_sym\n",
    "\n",
    "\n",
    "def delete_stopword_and_lemmatize(listw):\n",
    "    res = []\n",
    "    for word in listw:\n",
    "        word = word.lower()\n",
    "        if word not in stop_words and re.fullmatch(num_reg_exp, word) is None and not any(sym in word for sym in special_sym):\n",
    "            res += [lemmatizer.lemmatize(word)]\n",
    "    return res"
   ]
  },
  {
   "cell_type": "code",
   "execution_count": 3,
   "id": "fd60ed2e-9789-4c83-bdaf-a93da7b2657c",
   "metadata": {
    "tags": []
   },
   "outputs": [],
   "source": [
    "def split_data(x):\n",
    "    return train_test_split(x, newsgroups_train.target, test_size=0.2, random_state=42)"
   ]
  },
  {
   "cell_type": "code",
   "execution_count": 87,
   "id": "083cae15-043d-4f81-bdc7-f6fefcbe9625",
   "metadata": {
    "tags": []
   },
   "outputs": [],
   "source": [
    "def get_res(typename, dataset):\n",
    "    x_train, x_test, y_train, y_test = split_data(dataset)\n",
    "    print(typename)\n",
    "\n",
    "    clf = RandomForestClassifier(random_state=42, n_estimators=20, max_depth=20)\n",
    "    clf.fit(x_train, y_train)\n",
    "    acc_test = f1_score(y_true=y_test, y_pred=clf.predict(x_test), average=\"micro\")\n",
    "    print(f\"Random Forest:     {round(acc_test, 3)}\")\n",
    "\n",
    "    clf = GradientBoostingClassifier(random_state=42, n_estimators=20)\n",
    "    clf.fit(x_train, y_train)\n",
    "    acc_test = f1_score(y_true=y_test, y_pred=clf.predict(x_test), average=\"micro\")\n",
    "    print(f\"Gradient Boosting: {round(acc_test, 3)}\")\n",
    "\n",
    "    clf = AdaBoostClassifier(random_state=42, n_estimators=20)\n",
    "    clf.fit(x_train, y_train)\n",
    "    acc_test = f1_score(y_true=y_test, y_pred=clf.predict(x_test), average=\"micro\")\n",
    "    print(f\"Ada Boost:         {round(acc_test, 3)}\")"
   ]
  },
  {
   "cell_type": "code",
   "execution_count": 4,
   "id": "1b7b86b6-1b04-4e49-a678-3f4a3921d313",
   "metadata": {
    "tags": []
   },
   "outputs": [],
   "source": [
    "tokenize_data = [nltk.word_tokenize(newsgroups_train.data[i])\n",
    "                 for i in range(len(newsgroups_train.data))]"
   ]
  },
  {
   "cell_type": "code",
   "execution_count": 5,
   "id": "fb9471a5-c570-4f55-9958-775970fbcdc8",
   "metadata": {
    "tags": []
   },
   "outputs": [],
   "source": [
    "tokenize_data = [delete_stopword_and_lemmatize(tokenize_data[i])\n",
    "                 for i in range(len(tokenize_data))]"
   ]
  },
  {
   "cell_type": "code",
   "execution_count": 89,
   "id": "1406fc25-f986-4b4d-b9a7-055f94c2d214",
   "metadata": {
    "tags": []
   },
   "outputs": [],
   "source": [
    "dictn = corpora.Dictionary(tokenize_data)\n",
    "dictn.filter_extremes(keep_n=1000)\n",
    "corpus = [dictn.doc2bow(doc) for doc in tokenize_data]\n",
    "\n",
    "model = TfidfModel(corpus)\n",
    "tfidf_corpus = [model[doc] for doc in corpus]"
   ]
  },
  {
   "cell_type": "code",
   "execution_count": 92,
   "id": "6d53081d-99ab-4274-904a-b7e2d2428f21",
   "metadata": {
    "tags": []
   },
   "outputs": [
    {
     "name": "stdout",
     "output_type": "stream",
     "text": [
      "[0.01722332, 0.017223189, 0.017223632, 0.8449727, 0.017221857, 0.017222995, 0.01722346, 0.017223883, 0.017242787, 0.017222123]\n"
     ]
    }
   ],
   "source": [
    "lda_model = models.LdaModel(corpus=corpus, num_topics=10, id2word=dictn, passes=10)\n",
    "dataset_lda = []\n",
    "for i in range(len(tfidf_corpus)):\n",
    "    dataset_lda += [[val[1] for val in lda_model.get_document_topics(tfidf_corpus[i], minimum_probability=0.0)]]\n",
    "print(dataset_lda[10])"
   ]
  },
  {
   "cell_type": "code",
   "execution_count": 94,
   "id": "b858c932-35d5-4593-a7ab-33e8514ac9e5",
   "metadata": {
    "tags": []
   },
   "outputs": [
    {
     "name": "stdout",
     "output_type": "stream",
     "text": [
      "[0.18258500554530416, -0.1626441078055576, -0.2989941904448959, 0.02267313331031795, 0.14564292892960867, -0.03224879738798151, 0.2619429494278902, 0.07529082087413883, 0.15428767187113832, -0.005328632934410347, 0.027066969908637717, 0.11543915515531687, 0.11872725307238176, -0.09935099997329994, -0.040898144702486254, -0.09061539463671245, -0.06694165086890495, 0.03795901031733001, -0.04709598245349276, 0.1508209879416794]\n"
     ]
    }
   ],
   "source": [
    "lsi_model = models.LsiModel(corpus=tfidf_corpus, num_topics=20, id2word=dictn)\n",
    "dataset_lsi = []\n",
    "for i in range(len(tfidf_corpus)):\n",
    "    dataset_lsi += [[val[1] for val in lsi_model[tfidf_corpus[i]]]]\n",
    "print(dataset_lsi[10])"
   ]
  },
  {
   "cell_type": "code",
   "execution_count": 90,
   "id": "088d5fc4-a47a-486b-bba6-c5d757ddc4a7",
   "metadata": {
    "tags": []
   },
   "outputs": [],
   "source": [
    "dataset_tfidf = []\n",
    "len_corpus = len(corpus)\n",
    "for i in range(len(tfidf_corpus)):\n",
    "    doc = [0 for j in range(len(dictn))]\n",
    "    for val in tfidf_corpus[i]:\n",
    "        doc[val[0]] = val[1]\n",
    "\n",
    "    dataset_tfidf += [doc]\n",
    "# print(dataset_tfidf[1])"
   ]
  },
  {
   "cell_type": "code",
   "execution_count": 95,
   "id": "91b9cbe6-3f77-4225-8757-8538dc9ea46d",
   "metadata": {
    "tags": []
   },
   "outputs": [
    {
     "name": "stdout",
     "output_type": "stream",
     "text": [
      "LDA:\n",
      "Random Forest:     0.872\n",
      "Gradient Boosting: 0.862\n",
      "Ada Boost:         0.841\n",
      "--------------------------------\n",
      "TF-IDF:\n",
      "Random Forest:     0.889\n",
      "Gradient Boosting: 0.86\n",
      "Ada Boost:         0.766\n",
      "--------------------------------\n",
      "LSI:\n",
      "Random Forest:     0.924\n",
      "Gradient Boosting: 0.91\n",
      "Ada Boost:         0.888\n"
     ]
    }
   ],
   "source": [
    "get_res(\"LDA:\", dataset_lda)\n",
    "print(\"--------------------------------\")\n",
    "get_res(\"TF-IDF:\", dataset_tfidf)\n",
    "print(\"--------------------------------\")\n",
    "get_res(\"LSI:\", dataset_lsi)"
   ]
  },
  {
   "cell_type": "code",
   "execution_count": null,
   "id": "061863ab-cc28-45cf-84d4-9a91b0620277",
   "metadata": {},
   "outputs": [],
   "source": []
  }
 ],
 "metadata": {
  "kernelspec": {
   "display_name": "Python 3 (ipykernel)",
   "language": "python",
   "name": "python3"
  },
  "language_info": {
   "codemirror_mode": {
    "name": "ipython",
    "version": 3
   },
   "file_extension": ".py",
   "mimetype": "text/x-python",
   "name": "python",
   "nbconvert_exporter": "python",
   "pygments_lexer": "ipython3",
   "version": "3.10.7"
  }
 },
 "nbformat": 4,
 "nbformat_minor": 5
}
