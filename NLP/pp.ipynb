{
 "cells": [
  {
   "cell_type": "code",
   "execution_count": 29,
   "id": "a502e23f-0845-42a6-b63d-5a93335a7383",
   "metadata": {},
   "outputs": [],
   "source": [
    "from numpy import zeros, array\n",
    "from functools import lru_cache\n",
    "from math import log\n",
    "from tqdm import tqdm\n",
    "\n",
    "from random import randint as rint\n",
    "from random import seed, shuffle\n",
    "seed(42)\n",
    "\n",
    "import pandas as pd\n",
    "import pymorphy2\n",
    "morph = pymorphy2.MorphAnalyzer()\n",
    "import time\n",
    "import re\n",
    "\n",
    "import matplotlib.pyplot as plt"
   ]
  },
  {
   "cell_type": "code",
   "execution_count": 2,
   "id": "de9b241a-79ad-4e30-a156-7136730cc213",
   "metadata": {
    "tags": []
   },
   "outputs": [],
   "source": [
    "class Node(object):\n",
    "    def __init__(self, value, child=None, key=None, end=False):\n",
    "        if child is not None and key is not None:\n",
    "            self.children = {key: child}\n",
    "        else:\n",
    "            self.children = {}\n",
    "        self.value = value\n",
    "        self._isEnd = end\n",
    "\n",
    "    def __str__(self):\n",
    "        return f\"keys = {list(self.children.keys())}, value = {self.value}, \\\n",
    "end = {self._isEnd}\"\n",
    "\n",
    "    def addChild(self, value, key):\n",
    "        self.children[key] = Node(value)\n",
    "\n",
    "    def hasChild(self, key):\n",
    "        if key in self.children.keys():\n",
    "            return True\n",
    "        return False\n",
    "\n",
    "    def getChild(self, key):\n",
    "        return self.children[key]\n",
    "\n",
    "    def setValue(self, value):\n",
    "        self.value = value\n",
    "\n",
    "    def getValue(self):\n",
    "        return self.value\n",
    "\n",
    "    def isEnd(self):\n",
    "        return self._isEnd\n",
    "\n",
    "    def getKeys(self):\n",
    "        return list(self.children.keys())\n",
    "\n",
    "    def setEnd(self):\n",
    "        self._isEnd = True\n",
    "\n",
    "\n",
    "class PrefixTrie(object):\n",
    "    def __init__(self, db=None):\n",
    "        self.root = Node('')\n",
    "\n",
    "        if db is not None:\n",
    "            for word in db:\n",
    "                self.insert(word, word)\n",
    "\n",
    "    def insertDict(self, db_form, db_lemma):\n",
    "        for i in range(len(db_form)):\n",
    "            self.insert(db_form[i], db_lemma[i])\n",
    "\n",
    "    def insert(self, key, value):\n",
    "        node = self.root\n",
    "        lenght_key = len(key)\n",
    "        way = \"\"\n",
    "\n",
    "        for i in range(lenght_key):\n",
    "            char = key[i]\n",
    "            way += char\n",
    "            if not node.hasChild(char):\n",
    "                node.addChild(way, char)\n",
    "            node = node.getChild(char)\n",
    "        if (not node.isEnd()):\n",
    "            node.setValue(value)\n",
    "            node.setEnd()\n",
    "\n",
    "    def hasKey(self, key):\n",
    "        node = self.root\n",
    "\n",
    "        for i in range(len(key)):\n",
    "            char = key[i]\n",
    "            if node.hasChild(char):\n",
    "                node = node.getChild(char)\n",
    "            else:\n",
    "                return False\n",
    "\n",
    "        if node.isEnd():\n",
    "            return True\n",
    "        return False\n",
    "\n",
    "    def largestPrefix(self, key):\n",
    "        node = self.root\n",
    "        lemma = \"\"\n",
    "        lenght_key = len(key)\n",
    "\n",
    "        for i in range(lenght_key):\n",
    "            char = key[i]\n",
    "            if not node.hasChild(char):\n",
    "                break\n",
    "            node = node.getChild(char)\n",
    "            if node.isEnd():\n",
    "                lemma = node.getValue()\n",
    "\n",
    "        dif = lenght_key - len(lemma)\n",
    "        if dif != 0:\n",
    "            depth = 1\n",
    "            stack = [node.getChild(i) for i in node.getKeys()]\n",
    "            next_stack = []\n",
    "\n",
    "            while depth <= max(dif, int(lenght_key / 2)):\n",
    "                for elem in stack:\n",
    "                    if elem.isEnd():\n",
    "                        return elem.getValue()\n",
    "                    next_stack += [elem.getChild(i) for i in elem.getKeys()]\n",
    "\n",
    "                stack = next_stack.copy()\n",
    "                next_stack = []\n",
    "                depth += 1\n",
    "\n",
    "        return lemma if lemma != \"\" else key\n",
    "\n",
    "    @lru_cache\n",
    "    def getLemma(self, word):\n",
    "        prefix = \"\"\n",
    "        lemma = word\n",
    "        len_word = len(word)\n",
    "        min_dist = len_word\n",
    "\n",
    "        for i in range(len_word):\n",
    "            prefix += word[i]\n",
    "            new_lemma = self.largestPrefix(prefix)\n",
    "            dist = lev_dist(new_lemma, word)\n",
    "\n",
    "            if dist < min_dist and dist < len_word:\n",
    "                if dist == 0:\n",
    "                    return new_lemma\n",
    "                lemma = new_lemma\n",
    "                min_dist = dist\n",
    "\n",
    "        return lemma"
   ]
  },
  {
   "cell_type": "code",
   "execution_count": 3,
   "id": "1001514e-4ddd-4ee6-bc07-c25c87508634",
   "metadata": {
    "tags": []
   },
   "outputs": [
    {
     "name": "stdout",
     "output_type": "stream",
     "text": [
      "         lemma\n",
      "0            а\n",
      "1           аа\n",
      "2          а-а\n",
      "3          ааа\n",
      "4        а-а-а\n",
      "...        ...\n",
      "51728  ящерица\n",
      "51729   ящерка\n",
      "51730     ящик\n",
      "51731   ящичек\n",
      "51732     ящур\n",
      "\n",
      "[51733 rows x 1 columns]\n"
     ]
    }
   ],
   "source": [
    "lemma_dict = pd.read_csv('C:\\\\Python programs\\\\ru_dict_lemma.csv')\n",
    "print(lemma_dict)"
   ]
  },
  {
   "cell_type": "code",
   "execution_count": 4,
   "id": "302995d6-b4ff-41ce-87e1-407633f86322",
   "metadata": {
    "tags": []
   },
   "outputs": [
    {
     "name": "stdout",
     "output_type": "stream",
     "text": [
      "               form          lemma  id_sen\n",
      "0                 «              «     0.0\n",
      "1              Если           если     0.0\n",
      "2          передача       передача     0.0\n",
      "3          цифровых       цифровой     0.0\n",
      "4        технологий     технология     0.0\n",
      "...             ...            ...     ...\n",
      "19350  провозглашал  провозглашать   999.0\n",
      "19351          себя           себя   999.0\n",
      "19352        другом           друг   999.0\n",
      "19353          мира            мир   999.0\n",
      "19354             .              .   999.0\n",
      "\n",
      "[19355 rows x 3 columns]\n"
     ]
    }
   ],
   "source": [
    "df_train = pd.read_csv('C:\\\\Python programs\\\\dataset_ru_word_lemma2.csv')\n",
    "print(df_train)"
   ]
  },
  {
   "cell_type": "code",
   "execution_count": 5,
   "id": "2ed4eb68-9a48-4295-b30e-c1b9a23637b4",
   "metadata": {
    "tags": []
   },
   "outputs": [
    {
     "name": "stdout",
     "output_type": "stream",
     "text": [
      "           form     lemma part_of_speech  id_sen\n",
      "0      Алгоритм  алгоритм           NOUN     0.0\n",
      "1             ,         ,          PUNCT     0.0\n",
      "2            от        от            ADP     0.0\n",
      "3         имени       имя           NOUN     0.0\n",
      "4       учёного    ученый           NOUN     0.0\n",
      "...         ...       ...            ...     ...\n",
      "41428         ,         ,          PUNCT  1999.0\n",
      "41429         а         а          CCONJ  1999.0\n",
      "41430        от        от            ADP  1999.0\n",
      "41431    тройни    тройня           NOUN  1999.0\n",
      "41432         .         .          PUNCT  1999.0\n",
      "\n",
      "[41433 rows x 4 columns]\n"
     ]
    }
   ],
   "source": [
    "df_train2 = pd.read_csv('C:\\\\Python programs\\\\dataset_ru_word_lemma3.csv')\n",
    "print(df_train2)"
   ]
  },
  {
   "cell_type": "code",
   "execution_count": 6,
   "id": "c8381b3d-05a0-44ee-b992-e5eecf3abbea",
   "metadata": {
    "tags": []
   },
   "outputs": [
    {
     "name": "stdout",
     "output_type": "stream",
     "text": [
      "            stopword\n",
      "0                  а\n",
      "1          абсолютно\n",
      "2     авторизоваться\n",
      "3           активный\n",
      "4               алло\n",
      "...              ...\n",
      "1367               „\n",
      "1368               “\n",
      "1369               …\n",
      "1370               /\n",
      "1371             ...\n",
      "\n",
      "[1372 rows x 1 columns]\n"
     ]
    }
   ],
   "source": [
    "df_stopwords = pd.read_csv('C:\\\\Python programs\\\\stopwords_ru.csv')\n",
    "print(df_stopwords)"
   ]
  },
  {
   "cell_type": "code",
   "execution_count": 7,
   "id": "d75c3817-b2ea-4c64-b2d6-e24fd9788f9f",
   "metadata": {
    "tags": []
   },
   "outputs": [],
   "source": [
    "@lru_cache\n",
    "def lev_dist(w1, w2):\n",
    "    n, m = len(w1), len(w2)\n",
    "    mat = zeros([n + 1, m + 1], int)\n",
    "    mat[0, :] = array([i for i in range(m + 1)])\n",
    "    mat[:, 0] = array([i for i in range(n + 1)])\n",
    "\n",
    "    for i in range(1, n + 1):\n",
    "        for j in range(1, m + 1):\n",
    "            mat[i][j] = min(mat[i - 1][j] + 1, mat[i][j - 1] + 1,\n",
    "                            mat[i - 1][j - 1] + (w1[i - 1] != w2[j - 1]))\n",
    "    return mat[n][m]"
   ]
  },
  {
   "cell_type": "code",
   "execution_count": 8,
   "id": "767cc4d8-1392-4662-82a9-eb9c8d930d74",
   "metadata": {
    "tags": []
   },
   "outputs": [],
   "source": [
    "def lemma_lev(w):\n",
    "    lemma = \"\"\n",
    "    len_w = len(w)\n",
    "    len_lemma = len_w\n",
    "    for word in lemma_dict[\"lemma\"]:\n",
    "        if abs(len_w - len(word)) >= len_lemma:\n",
    "            continue\n",
    "\n",
    "        word = word.lower()\n",
    "        dist = lev_dist(word, w)\n",
    "        if dist < len_lemma:\n",
    "            if dist == 0:\n",
    "                return word\n",
    "            lemma = word\n",
    "            len_lemma = dist\n",
    "\n",
    "    return lemma if lemma != \"\" else w"
   ]
  },
  {
   "cell_type": "code",
   "execution_count": 75,
   "id": "58073bf1-dfcc-4bf0-a95f-d76d8d6feaa2",
   "metadata": {
    "tags": []
   },
   "outputs": [],
   "source": [
    "def test_metric(metric, cnt_test=100):\n",
    "    df_train = df_train2\n",
    "    cnt_test = min(cnt_test, len(df_train.index))\n",
    "    acc = 0\n",
    "    num_reg_exp = r'[-+]?(?:\\d+(?:\\.\\d*)?|\\.\\d+)(?:[eE][-+]?\\d+)?'\n",
    "\n",
    "    trie_st = PrefixTrie(df_stopwords['stopword'])\n",
    "    trie = PrefixTrie(lemma_dict[\"lemma\"].apply(str.lower))\n",
    "\n",
    "    test_word, test_lemms, test_upos = [], [], []\n",
    "    rand_idx = list(df_train.index)\n",
    "    shuffle(rand_idx)\n",
    "\n",
    "    pos_res = []\n",
    "    neg_res = []\n",
    "\n",
    "    for i in rand_idx:\n",
    "        word = df_train['form'][i].lower()\n",
    "        lemma = df_train['lemma'][i].lower()\n",
    "        part_of_speech = df_train['part_of_speech'][i]\n",
    "        if trie_st.hasKey(word) or trie_st.hasKey(lemma) or re.fullmatch(num_reg_exp, word) is not None or not trie.hasKey(lemma) or part_of_speech in [None, 'X']:\n",
    "            continue\n",
    "\n",
    "        test_word += [word]\n",
    "        test_lemms += [lemma]\n",
    "        test_upos += [part_of_speech]\n",
    "\n",
    "        if len(test_word) == cnt_test:\n",
    "            break\n",
    "\n",
    "    cnt_test = len(test_word)\n",
    "\n",
    "    with tqdm(total=cnt_test, position=0, leave=True) as pbar:\n",
    "        for word, ans_lemma, part in zip(test_word, test_lemms, test_upos):\n",
    "\n",
    "            ans = metric(word)\n",
    "            if ans == ans_lemma:\n",
    "                acc += 1\n",
    "                pos_res += [(word, part)]\n",
    "            else:\n",
    "                neg_res += [(word, part)]\n",
    "\n",
    "            pbar.set_description(f\"Word: {word}, Lemma: {ans_lemma}, Ans: {ans}\")\n",
    "            pbar.update()\n",
    "\n",
    "    print(acc / cnt_test)\n",
    "\n",
    "    return (acc / cnt_test, pos_res, neg_res)"
   ]
  },
  {
   "cell_type": "code",
   "execution_count": 132,
   "id": "fbde6bab-bf76-46d9-9ad4-14624cff8709",
   "metadata": {
    "tags": []
   },
   "outputs": [],
   "source": [
    "def print_res_part(res, title):\n",
    "    acc, pos_res, neg_res = res\n",
    "    pos_classes = {}\n",
    "    neg_classes = {}\n",
    "\n",
    "    for i in pos_res:\n",
    "        if i[1] not in pos_classes.keys():\n",
    "            pos_classes[i[1]] = 1\n",
    "        else:\n",
    "            pos_classes[i[1]] += 1\n",
    "\n",
    "    for i in neg_res:\n",
    "        if i[1] not in neg_classes.keys():\n",
    "            neg_classes[i[1]] = 1\n",
    "        else:\n",
    "            neg_classes[i[1]] += 1\n",
    "\n",
    "    res_pos = {}\n",
    "    res_neg = {}\n",
    "    for i in pos_classes.keys():\n",
    "        if i in neg_classes.keys():\n",
    "            res_pos[i] = pos_classes[i] / (pos_classes[i] + neg_classes[i]) * 100\n",
    "            res_neg[i] = 100 - res_pos[i]\n",
    "\n",
    "    width = 1\n",
    "    pos = 0\n",
    "    plt.subplots(figsize=(9, 6))\n",
    "    plt.bar(pos, 0, 0, color='red', label='correct')\n",
    "    plt.bar(pos, 0, 0, color='blue', label='invalid')\n",
    "    names = {}\n",
    "\n",
    "    for key in res_pos.keys():\n",
    "        names[key] = pos\n",
    "        plt.bar(pos, res_pos[key], width, bottom=0, color='red')\n",
    "        plt.bar(pos, res_neg[key], width, bottom=res_pos[key], color='blue')\n",
    "        pos += 3 * width\n",
    "\n",
    "    plt.xticks(tuple(names.values()), tuple(names.keys()))\n",
    "    plt.ylabel(\"percentages\")\n",
    "    plt.legend(ncols=2)\n",
    "    plt.title(title)\n",
    "    plt.grid(axis='y')\n",
    "\n",
    "    plt.savefig(f'C:\\\\Users\\\\user\\\\Desktop\\\\NLP_foto\\\\{title.split()[0]}_part.png')\n",
    "\n",
    "    plt.show()"
   ]
  },
  {
   "cell_type": "code",
   "execution_count": 131,
   "id": "83ced8eb-0956-4d88-8d11-a07c28d2da2e",
   "metadata": {
    "tags": []
   },
   "outputs": [],
   "source": [
    "def print_res_len(res, title):\n",
    "    acc, pos_res, neg_res = res\n",
    "    pos_classes = {}\n",
    "    neg_classes = {}\n",
    "\n",
    "    for i in pos_res:\n",
    "        len_word = len(i[0])\n",
    "        if len_word not in pos_classes.keys():\n",
    "            pos_classes[len_word] = 1\n",
    "        else:\n",
    "            pos_classes[len_word] += 1\n",
    "\n",
    "    for i in neg_res:\n",
    "        len_word = len(i[0])\n",
    "        if len_word not in neg_classes.keys():\n",
    "            neg_classes[len_word] = 1\n",
    "        else:\n",
    "            neg_classes[len_word] += 1\n",
    "\n",
    "    res_pos = {}\n",
    "    res_neg = {}\n",
    "    for i in pos_classes.keys():\n",
    "        if i in neg_classes.keys():\n",
    "            res_pos[i] = pos_classes[i] / (pos_classes[i] + neg_classes[i]) * 100\n",
    "            res_neg[i] = 100 - res_pos[i]\n",
    "\n",
    "    res_pos = dict(sorted(res_pos.items()))\n",
    "    res_neg = dict(sorted(res_neg.items()))\n",
    "\n",
    "    width = 1\n",
    "    pos = 0\n",
    "    plt.subplots(figsize=(9, 6))\n",
    "    plt.bar(pos, 0, 0, color='red', label='correct')\n",
    "    plt.bar(pos, 0, 0, color='blue', label='invalid')\n",
    "    pos_log = []\n",
    "\n",
    "    for key in res_pos.keys():\n",
    "        pos_log += [pos]\n",
    "        plt.bar(pos, res_pos[key], width, bottom=0, color='red')\n",
    "        plt.bar(pos, res_neg[key], width, bottom=res_pos[key], color='blue')\n",
    "        pos += 3 * width\n",
    "\n",
    "    plt.ylabel(\"percentages\")\n",
    "    plt.xlabel(\"length of word\")\n",
    "    plt.xticks(pos_log, tuple(res_pos.keys()))\n",
    "    plt.legend(ncols=2)\n",
    "    plt.title(title)\n",
    "    plt.grid(axis='y')\n",
    "\n",
    "    plt.savefig(f'C:\\\\Users\\\\user\\\\Desktop\\\\NLP_foto\\\\{title.split()[0]}_len.png')\n",
    "\n",
    "    plt.show()"
   ]
  },
  {
   "cell_type": "code",
   "execution_count": 10,
   "id": "e54358f0-3a56-43b5-8129-308472f13d4f",
   "metadata": {
    "tags": []
   },
   "outputs": [],
   "source": [
    "def jaro_dist(w1, w2):\n",
    "    len_w1, len_w2 = len(w1), len(w2)\n",
    "    blok = max(len_w1, len_w2) // 2 - 1\n",
    "    tr = 0\n",
    "    m = 0\n",
    "\n",
    "    for i in range(len_w1):\n",
    "        char1 = w1[i]\n",
    "        for j in range(len_w2):\n",
    "            if abs(i - j) <= blok:\n",
    "                if w2[j] == char1:\n",
    "                    m += 1\n",
    "                    if i != j:\n",
    "                        tr += 1\n",
    "                    break\n",
    "    tr //= 2\n",
    "    return 0 if m == 0 else 1/3 * (m / len_w1 + m / len_w2 + (m - tr) / m)"
   ]
  },
  {
   "cell_type": "code",
   "execution_count": 11,
   "id": "04c26584-5ea8-400e-acd8-56a229f3a222",
   "metadata": {
    "tags": []
   },
   "outputs": [],
   "source": [
    "def jaro_vin_dist(w1, w2, max_ll, p, b):\n",
    "    len_w1, len_w2 = len(w1), len(w2)\n",
    "    blok = max(len_w1, len_w2) // 2 - 1\n",
    "    tr = 0\n",
    "    m = 0\n",
    "    ll = 0\n",
    "    d = 0\n",
    "\n",
    "    for i in range(min(len_w1, len_w2)):\n",
    "        if w2[i] == w1[i]:\n",
    "            ll += 1\n",
    "        else:\n",
    "            break\n",
    "\n",
    "    for i in range(ll, len_w1):\n",
    "        char1 = w1[i]\n",
    "        for j in range(ll, len_w2):\n",
    "            if abs(i - j) <= blok:\n",
    "                if w2[j] == char1:\n",
    "                    m += 1\n",
    "                    if i != j:\n",
    "                        tr += 1\n",
    "                    break\n",
    "\n",
    "    m += ll\n",
    "    ll = min(ll, max_ll)\n",
    "\n",
    "    if m != 0:\n",
    "        d = min(1/3 * (m / len_w1 + m / len_w2 + (m - tr) / m), 1)\n",
    "\n",
    "    return d + ll * p * (1 - d) if d > b else d"
   ]
  },
  {
   "cell_type": "code",
   "execution_count": 12,
   "id": "6c8e365c-d473-43a8-8001-c97a75b8c97b",
   "metadata": {
    "tags": []
   },
   "outputs": [],
   "source": [
    "def lemma_jaro(w):\n",
    "    lemma = w\n",
    "    len_w = len(w)\n",
    "    max_dist = 0\n",
    "    for word in lemma_dict[\"lemma\"]:\n",
    "        word = word.lower()\n",
    "        if abs(len_w - len(word)) >= len_w:\n",
    "            continue\n",
    "\n",
    "        dist = jaro_dist(word, w)\n",
    "        if dist > max_dist and dist <= 1:\n",
    "            if dist == 1:\n",
    "                return word\n",
    "            lemma = word\n",
    "            max_dist = dist\n",
    "\n",
    "    return lemma"
   ]
  },
  {
   "cell_type": "code",
   "execution_count": 13,
   "id": "f70b5c69-7c21-43e0-9762-fa7bc65f5b5a",
   "metadata": {
    "tags": []
   },
   "outputs": [],
   "source": [
    "def lemma_jaro_vin(w, max_ll=4, p=0.2, b=0.7):\n",
    "    lemma = w\n",
    "    len_w = len(w)\n",
    "    max_dist = 0\n",
    "    for word in lemma_dict[\"lemma\"]:\n",
    "        word = word.lower()\n",
    "        if abs(len_w - len(word)) >= len_w:\n",
    "            continue\n",
    "\n",
    "        dist = jaro_vin_dist(word, w, max_ll=max_ll, p=p, b=b)\n",
    "        if dist > max_dist and dist <= 1:\n",
    "            if dist == 1:\n",
    "                return word\n",
    "            lemma = word\n",
    "            max_dist = dist\n",
    "\n",
    "    return lemma"
   ]
  },
  {
   "cell_type": "code",
   "execution_count": 14,
   "id": "1bd30cbf-43c2-469e-9da8-5143e43ceff7",
   "metadata": {
    "tags": []
   },
   "outputs": [
    {
     "data": {
      "text/plain": [
       "'гнездиться'"
      ]
     },
     "execution_count": 14,
     "metadata": {},
     "output_type": "execute_result"
    }
   ],
   "source": [
    "lemma_jaro('гнездился')"
   ]
  },
  {
   "cell_type": "code",
   "execution_count": 15,
   "id": "aa0e2d28-eb4f-4df7-80be-664e26aaff19",
   "metadata": {
    "tags": []
   },
   "outputs": [],
   "source": [
    "trie = PrefixTrie(lemma_dict[\"lemma\"].apply(str.lower))"
   ]
  },
  {
   "cell_type": "code",
   "execution_count": 16,
   "id": "bd48d5f6-655e-472d-a668-3de44c9f6074",
   "metadata": {
    "tags": []
   },
   "outputs": [],
   "source": [
    "@lru_cache\n",
    "def lemma_dbsra(w):\n",
    "    lemma = \"\"\n",
    "    for i in range(len(w)):\n",
    "        for j in range(len(w), i, -1):\n",
    "            if trie.hasKey(w[i:j]) and j - i > len(lemma):\n",
    "                lemma = w[i:j]\n",
    "    return lemma if lemma != \"\" else w"
   ]
  },
  {
   "cell_type": "code",
   "execution_count": 17,
   "id": "fb5d49d8-319f-40ff-9839-668f91d10f1a",
   "metadata": {
    "tags": []
   },
   "outputs": [],
   "source": [
    "def damerau_levenshtein_distance(s1, s2):\n",
    "    d = {}\n",
    "    lenstr1 = len(s1)\n",
    "    lenstr2 = len(s2)\n",
    "    for i in range(-1,lenstr1+1):\n",
    "        d[(i,-1)] = i+1\n",
    "    for j in range(-1,lenstr2+1):\n",
    "        d[(-1,j)] = j+1\n",
    " \n",
    "    for i in range(lenstr1):\n",
    "        for j in range(lenstr2):\n",
    "            if s1[i] == s2[j]:\n",
    "                cost = 0\n",
    "            else:\n",
    "                cost = 1\n",
    "            d[(i,j)] = min(\n",
    "                           d[(i-1,j)] + 1, # deletion\n",
    "                           d[(i,j-1)] + 1, # insertion\n",
    "                           d[(i-1,j-1)] + cost, # substitution\n",
    "                          )\n",
    "            if i and j and s1[i] == s2[j-1] and s1[i-1] == s2[j]:\n",
    "                d[(i,j)] = min(d[(i,j)], d[i-2,j-2] + 1) # transposition\n",
    " \n",
    "    return d[lenstr1-1,lenstr2-1]"
   ]
  },
  {
   "cell_type": "code",
   "execution_count": 18,
   "id": "364a6b2c-a222-4bbc-aee5-057cdfa6f578",
   "metadata": {
    "tags": []
   },
   "outputs": [],
   "source": [
    "def lemma_lev_dam(w):\n",
    "    lemma = w\n",
    "    len_w = len(w)\n",
    "    min_dist = len_w\n",
    "    for word in lemma_dict[\"lemma\"]:\n",
    "        word = word.lower()\n",
    "        if abs(len_w - len(word)) >= len_w:\n",
    "            continue\n",
    "\n",
    "        dist = damerau_levenshtein_distance(word, w)\n",
    "        if dist < min_dist:\n",
    "            if dist == 0:\n",
    "                return word\n",
    "            lemma = word\n",
    "            min_dist = dist\n",
    "\n",
    "    return lemma"
   ]
  },
  {
   "cell_type": "code",
   "execution_count": null,
   "id": "18e4df70-5c13-4fce-8754-5cc4af39f983",
   "metadata": {
    "tags": []
   },
   "outputs": [],
   "source": [
    "hist = test_metric(lambda x: lemma_jaro_vin(x, 2, 0.4, 0.7), 1000)\n",
    "print_res_part(hist, \"Jaro–Winkler distance\")\n",
    "print_res_len(hist, \"Jaro–Winkler distance\")\n",
    "# 0.764"
   ]
  },
  {
   "cell_type": "code",
   "execution_count": null,
   "id": "92134df0-3c1e-43e6-aec3-8389b354cc58",
   "metadata": {
    "tags": []
   },
   "outputs": [],
   "source": [
    "hist = test_metric(lambda x: lemma_jaro_vin(x, 1, 0.9, 0.7), 1000)\n",
    "print_res_part(hist, \"Jaro–Winkler distance\")\n",
    "print_res_len(hist, \"Jaro–Winkler distance\")\n",
    "# 0.783"
   ]
  },
  {
   "cell_type": "code",
   "execution_count": null,
   "id": "aa23f75a-2c81-45c2-ae38-f8cb5cce8225",
   "metadata": {
    "tags": []
   },
   "outputs": [],
   "source": [
    "hist = test_metric(lambda x: lemma_jaro_vin(x, 4, 0.2, 0.7), 1000)\n",
    "print_res_part(hist, \"Jaro–Winkler distance\")\n",
    "print_res_len(hist, \"Jaro–Winkler distance\")\n",
    "# 0.762"
   ]
  },
  {
   "cell_type": "code",
   "execution_count": null,
   "id": "08dc0601-37fe-48cf-a7bc-34bbef4c2831",
   "metadata": {
    "tags": []
   },
   "outputs": [],
   "source": [
    "hist = test_metric(lemma_jaro, 1000)\n",
    "print_res_part(hist, \"Jaro distance\")\n",
    "print_res_len(hist, \"Jaro distance\")\n",
    "# 0.607"
   ]
  },
  {
   "cell_type": "code",
   "execution_count": 139,
   "id": "5b4a6800-5960-4567-a160-cfa5f734a403",
   "metadata": {
    "tags": []
   },
   "outputs": [
    {
     "name": "stderr",
     "output_type": "stream",
     "text": [
      "Word: словно, Lemma: словно, Ans: словно: 100%|████████████████████████████████████| 1000/1000 [56:55<00:00,  3.42s/it]\n"
     ]
    },
    {
     "name": "stdout",
     "output_type": "stream",
     "text": [
      "0.75\n"
     ]
    },
    {
     "data": {
      "image/png": "[encoded data removed]",
      "text/plain": [
       "<Figure size 900x600 with 1 Axes>"
      ]
     },
     "metadata": {},
     "output_type": "display_data"
    },
    {
     "data": {
      "image/png": "[encoded data removed]",
      "text/plain": [
       "<Figure size 900x600 with 1 Axes>"
      ]
     },
     "metadata": {},
     "output_type": "display_data"
    }
   ],
   "source": [
    "hist = test_metric(lemma_lev, 1000)\n",
    "print_res_part(hist, \"Levenshtein distance\")\n",
    "print_res_len(hist, \"Levenshtein distance\")\n",
    "# 0.750"
   ]
  },
  {
   "cell_type": "code",
   "execution_count": 118,
   "id": "6b3beab8-0fb8-40c3-96bd-00429c168671",
   "metadata": {
    "tags": []
   },
   "outputs": [
    {
     "name": "stderr",
     "output_type": "stream",
     "text": [
      "Word: маршрут, Lemma: маршрут, Ans: маршрут: 100%|██████████████████████████████| 10000/10000 [00:21<00:00, 467.43it/s]\n"
     ]
    },
    {
     "name": "stdout",
     "output_type": "stream",
     "text": [
      "0.9291\n"
     ]
    },
    {
     "data": {
      "image/png": "[encoded data removed]",
      "text/plain": [
       "<Figure size 900x600 with 1 Axes>"
      ]
     },
     "metadata": {},
     "output_type": "display_data"
    },
    {
     "data": {
      "image/png": "[encoded data removed]",
      "text/plain": [
       "<Figure size 900x600 with 1 Axes>"
      ]
     },
     "metadata": {},
     "output_type": "display_data"
    }
   ],
   "source": [
    "hist = test_metric(lambda x: morph.parse(x)[0].normal_form, 10000)\n",
    "print_res_part(hist, \"DBSRA\")\n",
    "print_res_len(hist, \"DBSRA\")\n",
    "# lambda x: morph.parse(x)[0].normal_form: 0.931 +\n",
    "# trie.getLemma: 0.790 +\n",
    "# lemma_jaro_vin: 0.752 p=0.4, b=0.7, l=2 +\n",
    "# lemma_jaro_vin: 0.750 p=0.9, b=0.7, l=1 +\n",
    "# lemma_jaro_vin: 0.788 p=0.2, b=0.7, l=4\n",
    "# lemma_jaro_vin: 0.786 p=0.4, b=0.8, l=2\n",
    "# lemma_jaro_vin: 0.782 p=0.4, b=0.6, l=2\n",
    "# lemma_lev: 0.769\n",
    "# lemma_lev_dam: 0.740\n",
    "# lemma_jaro: 0.584\n",
    "# lemma_dbsra: 0.409 +\n",
    "# lambda x: x: 0.263 +"
   ]
  },
  {
   "cell_type": "code",
   "execution_count": null,
   "id": "6f992da3-932c-4b2c-9ae7-f8147ad4540d",
   "metadata": {},
   "outputs": [],
   "source": []
  }
 ],
 "metadata": {
  "kernelspec": {
   "display_name": "Python 3 (ipykernel)",
   "language": "python",
   "name": "python3"
  },
  "language_info": {
   "codemirror_mode": {
    "name": "ipython",
    "version": 3
   },
   "file_extension": ".py",
   "mimetype": "text/x-python",
   "name": "python",
   "nbconvert_exporter": "python",
   "pygments_lexer": "ipython3",
   "version": "3.10.7"
  }
 },
 "nbformat": 4,
 "nbformat_minor": 5
}
