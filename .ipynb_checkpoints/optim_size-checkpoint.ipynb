{
 "cells": [
  {
   "cell_type": "code",
   "execution_count": 16,
   "id": "406f9c0a-40ad-45ae-b16a-3233e8ee086c",
   "metadata": {},
   "outputs": [],
   "source": [
    "import zlib"
   ]
  },
  {
   "cell_type": "code",
   "execution_count": 15,
   "id": "1b770e3f-e5cc-4d78-9542-ab087ff85d5e",
   "metadata": {},
   "outputs": [],
   "source": [
    "s = []\n",
    "nodes = []\n",
    "file = open(\"out_market_poligons.txt\", \"r\")\n",
    "for line in file:\n",
    "    s += [line.split(\",\")]\n",
    "    s[-1][-1] = s[-1][-1].replace(\"\\n\", \"\")\n",
    "    nodes += s[-1]\n",
    "file.close()\n",
    "\n",
    "nodes = list(set(nodes))"
   ]
  },
  {
   "cell_type": "code",
   "execution_count": 34,
   "id": "385149bd-ec73-4d58-a002-627d075ed325",
   "metadata": {},
   "outputs": [
    {
     "ename": "KeyboardInterrupt",
     "evalue": "",
     "output_type": "error",
     "traceback": [
      "\u001b[1;31m---------------------------------------------------------------------------\u001b[0m",
      "\u001b[1;31mKeyboardInterrupt\u001b[0m                         Traceback (most recent call last)",
      "Cell \u001b[1;32mIn[34], line 3\u001b[0m\n\u001b[0;32m      1\u001b[0m line \u001b[38;5;241m=\u001b[39m \u001b[38;5;124m\"\u001b[39m\u001b[38;5;124m\"\u001b[39m\n\u001b[0;32m      2\u001b[0m \u001b[38;5;28;01mfor\u001b[39;00m i \u001b[38;5;129;01min\u001b[39;00m s:\n\u001b[1;32m----> 3\u001b[0m     line \u001b[38;5;241m+\u001b[39m\u001b[38;5;241m=\u001b[39m \u001b[38;5;124;43m\"\u001b[39;49m\u001b[38;5;124;43m,\u001b[39;49m\u001b[38;5;124;43m\"\u001b[39;49m\u001b[38;5;241;43m.\u001b[39;49m\u001b[43mjoin\u001b[49m\u001b[43m(\u001b[49m\u001b[43mi\u001b[49m\u001b[43m)\u001b[49m \u001b[38;5;241m+\u001b[39m \u001b[38;5;124m\"\u001b[39m\u001b[38;5;124m|\u001b[39m\u001b[38;5;124m\"\u001b[39m\n\u001b[0;32m      4\u001b[0m line \u001b[38;5;241m=\u001b[39m line[:\u001b[38;5;241m-\u001b[39m\u001b[38;5;241m1\u001b[39m]\n",
      "\u001b[1;31mKeyboardInterrupt\u001b[0m: "
     ]
    }
   ],
   "source": [
    "line = \"\"\n",
    "for i in s:\n",
    "    line += \",\".join(i) + \"|\"\n",
    "line = line[:-1]"
   ]
  },
  {
   "cell_type": "code",
   "execution_count": null,
   "id": "e69ffde4-6849-4ac7-9ec0-bde5652f8c79",
   "metadata": {},
   "outputs": [],
   "source": [
    "len(line)"
   ]
  },
  {
   "cell_type": "code",
   "execution_count": 20,
   "id": "14234547-f3ce-4799-8c41-ebdebdab14d0",
   "metadata": {},
   "outputs": [],
   "source": [
    "compressed = zlib.compress(\",\".join(s[0]).encode('utf-8'))"
   ]
  },
  {
   "cell_type": "code",
   "execution_count": 25,
   "id": "3cd7c435-a78f-484e-b83a-87999c771b07",
   "metadata": {},
   "outputs": [
    {
     "data": {
      "text/plain": [
       "'789c73f273d2717471d4710af2010010a902d1'"
      ]
     },
     "execution_count": 25,
     "metadata": {},
     "output_type": "execute_result"
    }
   ],
   "source": [
    "compressed.hex()"
   ]
  },
  {
   "cell_type": "code",
   "execution_count": 30,
   "id": "41e72412-c94f-4eb2-9d18-9097da156023",
   "metadata": {},
   "outputs": [
    {
     "data": {
      "text/plain": [
       "'424e422c4144412c42524c'"
      ]
     },
     "execution_count": 30,
     "metadata": {},
     "output_type": "execute_result"
    }
   ],
   "source": [
    "bytes(\",\".join(s[0]).encode('utf-8')).hex()"
   ]
  },
  {
   "cell_type": "code",
   "execution_count": 31,
   "id": "ccbf278b-9976-48c8-8010-ae8c87533b7d",
   "metadata": {},
   "outputs": [
    {
     "data": {
      "text/plain": [
       "11"
      ]
     },
     "execution_count": 31,
     "metadata": {},
     "output_type": "execute_result"
    }
   ],
   "source": [
    "len(\",\".join(s[0]))"
   ]
  },
  {
   "cell_type": "code",
   "execution_count": 32,
   "id": "77b27001-382f-4011-8184-0cfed34323d0",
   "metadata": {},
   "outputs": [
    {
     "data": {
      "text/plain": [
       "19"
      ]
     },
     "execution_count": 32,
     "metadata": {},
     "output_type": "execute_result"
    }
   ],
   "source": [
    "len(compressed)"
   ]
  },
  {
   "cell_type": "code",
   "execution_count": 24,
   "id": "ddaae24f-c45c-4f9a-bdc5-e9924d86560b",
   "metadata": {},
   "outputs": [
    {
     "data": {
      "text/plain": [
       "b'BNB,ADA,BRL'"
      ]
     },
     "execution_count": 24,
     "metadata": {},
     "output_type": "execute_result"
    }
   ],
   "source": [
    "zlib.decompress(compressed)"
   ]
  },
  {
   "cell_type": "code",
   "execution_count": 19,
   "id": "b1c7ec04-6712-4e48-aec0-37ce3791e3ce",
   "metadata": {},
   "outputs": [
    {
     "data": {
      "text/plain": [
       "'BNB,ADA,BRL'"
      ]
     },
     "execution_count": 19,
     "metadata": {},
     "output_type": "execute_result"
    }
   ],
   "source": [
    "\",\".join(s[0])"
   ]
  },
  {
   "cell_type": "code",
   "execution_count": 12,
   "id": "9525dd52-715b-4e57-b4bc-68c0ae094eea",
   "metadata": {},
   "outputs": [],
   "source": [
    "len(nodes)"
   ]
  }
 ],
 "metadata": {
  "kernelspec": {
   "display_name": "Python 3 (ipykernel)",
   "language": "python",
   "name": "python3"
  },
  "language_info": {
   "codemirror_mode": {
    "name": "ipython",
    "version": 3
   },
   "file_extension": ".py",
   "mimetype": "text/x-python",
   "name": "python",
   "nbconvert_exporter": "python",
   "pygments_lexer": "ipython3",
   "version": "3.10.0"
  }
 },
 "nbformat": 4,
 "nbformat_minor": 5
}
