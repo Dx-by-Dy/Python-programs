{
 "cells": [
  {
   "cell_type": "code",
   "execution_count": 1,
   "id": "df2542a7-fc38-41f9-862e-3010df0ff119",
   "metadata": {
    "tags": []
   },
   "outputs": [],
   "source": [
    "import numpy as np\n",
    "import math\n",
    "from math import sqrt, log, inf, pi, atan, exp\n",
    "from random import random\n",
    "import matplotlib.pyplot as plt\n",
    "from tqdm import tqdm\n",
    "\n",
    "import sys\n",
    "import pandas as pd"
   ]
  },
  {
   "cell_type": "code",
   "execution_count": 2,
   "id": "6f0f4f8d-e270-49ca-8e1b-4f11cb944adb",
   "metadata": {
    "tags": []
   },
   "outputs": [],
   "source": [
    "def get_lin_reg(x, y):\n",
    "    cnt_points = len(x)\n",
    "\n",
    "    sumsq_x, sc_xy, sum_x, sum_y = 0, 0, 0, 0\n",
    "    for i in range(cnt_points):\n",
    "        sumsq_x += x[i] ** 2\n",
    "        sc_xy += x[i] * y[i]\n",
    "        sum_x += x[i]\n",
    "        sum_y += y[i]\n",
    "\n",
    "    det = sumsq_x * cnt_points - sum_x ** 2\n",
    "    H = (sc_xy * cnt_points - sum_x * sum_y) / det\n",
    "    c = (sumsq_x * sum_y - sum_x * sc_xy) / det\n",
    "\n",
    "    return H, c"
   ]
  },
  {
   "cell_type": "code",
   "execution_count": 3,
   "id": "3caa7272-2afb-4ceb-b4c8-0cec461b360a",
   "metadata": {
    "tags": []
   },
   "outputs": [],
   "source": [
    "def analysisRS(data, min_size=20, max_size=None):\n",
    "\n",
    "    len_data = len(data)\n",
    "    RS = []\n",
    "    if max_size is None:\n",
    "        max_size = max(len_data // 2, min_size + 1)\n",
    "    periods = list(map(lambda x: int(10 ** x), np.arange(math.log10(min_size), math.log10(max_size), 0.25)))\n",
    "\n",
    "    for n in periods:\n",
    "        val_RS = 0\n",
    "        m = len_data // n\n",
    "\n",
    "        for i in range(m):\n",
    "            sum_val_sq = 0\n",
    "            sml_sum = [0]\n",
    "            for j in range(i * n, (i + 1) * n):\n",
    "                sum_val_sq += data[j] ** 2\n",
    "                sml_sum += [sml_sum[-1] + data[j]]\n",
    "\n",
    "            S = sqrt(sum_val_sq / n - (sml_sum[-1] / n) ** 2)\n",
    "\n",
    "            min_val, max_val = +inf, -inf\n",
    "            for j in range(1, n + 1):\n",
    "\n",
    "                val = sml_sum[j] - j * sml_sum[-1] / n\n",
    "                if val < min_val:\n",
    "                    min_val = val\n",
    "                if val > max_val:\n",
    "                    max_val = val\n",
    "\n",
    "            val_RS += (max_val - min_val) / S\n",
    "\n",
    "        RS += [log(val_RS / m)]\n",
    "\n",
    "    return list(map(log, periods)), RS"
   ]
  },
  {
   "cell_type": "code",
   "execution_count": 4,
   "id": "75e8d12f-b826-42eb-aedd-54f479f28336",
   "metadata": {
    "tags": []
   },
   "outputs": [],
   "source": [
    "def get_Hc_vectors(data, num_batch=None, min_size=20, max_size=None):\n",
    "\n",
    "    len_data = len(data)\n",
    "\n",
    "    if num_batch is None:\n",
    "        num_batch = len_data // 5000\n",
    "    len_batch = len_data // num_batch\n",
    "\n",
    "    vec_H, vec_c = [None] * num_batch, [None] * num_batch\n",
    "\n",
    "    with tqdm(total=num_batch, position=0, leave=True) as pbar:\n",
    "        for i in range(num_batch):\n",
    "\n",
    "            pbar.set_description(f\"Batch: {i+1}/{num_batch}\")\n",
    "            pbar.update()\n",
    "\n",
    "            per, RS = analysisRS(data[len_batch * i:len_batch * (i + 1)], min_size, max_size)\n",
    "            vec_H[i], vec_c[i] = get_lin_reg(per, RS)\n",
    "\n",
    "    return vec_H, vec_c"
   ]
  },
  {
   "cell_type": "code",
   "execution_count": 285,
   "id": "e0630b90-a633-49a0-95d1-63a71620d006",
   "metadata": {
    "tags": []
   },
   "outputs": [],
   "source": [
    "def print_frac_alalysis(data, vec_param, num_batch):\n",
    "    len_data = len(data)\n",
    "    min_data, max_data = min(data), max(data)\n",
    "    len_batch = len_data // num_batch\n",
    "\n",
    "    plt.subplots(nrows=1, ncols=1, figsize=(15, 4))\n",
    "    plt.plot(data)\n",
    "    plt.ylim(min_data - 0.1, max_data + 0.1)\n",
    "    plt.xticks([len_batch // 2 + len_batch * i for i in range(num_batch)],\n",
    "               [str(round(i, 2)) for i in vec_param])\n",
    "\n",
    "    for i in range(num_batch + 1):\n",
    "        plt.vlines(len_batch * i, min_data - 1, max_data + 1, 'r')"
   ]
  },
  {
   "cell_type": "code",
   "execution_count": 319,
   "id": "a67a15af-225b-4f9b-b930-14e0fda7aeb1",
   "metadata": {
    "tags": []
   },
   "outputs": [],
   "source": [
    "def analysisIdxFrac(data, min_size=20, max_size=None):\n",
    "\n",
    "    len_data = len(data)\n",
    "    IdxFrac = []\n",
    "    if max_size is None:\n",
    "        max_size = max(len_data // 2, min_size + 1)\n",
    "    periods = [i for i in range(min_size, 50)] +\\\n",
    "              list(map(lambda x: int(2 ** x), np.arange(math.log2(50), math.log2(max_size), 0.1)))\n",
    "\n",
    "    for n in periods:\n",
    "\n",
    "        val_IdxFrac = 0\n",
    "        m = len_data // n\n",
    "\n",
    "        for i in range(m):\n",
    "\n",
    "            max_val, min_val = -inf, +inf\n",
    "            for j in range(i * n, min((i + 1) * n + 1, len_data)):\n",
    "\n",
    "                val = data[j]\n",
    "                if val < min_val:\n",
    "                    min_val = val\n",
    "                if val > max_val:\n",
    "                    max_val = val\n",
    "\n",
    "            if n == 1:\n",
    "                val_IdxFrac += abs(data[i * n])\n",
    "            else:\n",
    "                val_IdxFrac += (max_val - min_val)\n",
    "\n",
    "            max_val, min_val = -inf, +inf\n",
    "            for j in range(len_data - i * n - 1, len_data - 1 - min((i + 1) * n + 1, len_data), -1):\n",
    "\n",
    "                val = data[j]\n",
    "                if val < min_val:\n",
    "                    min_val = val\n",
    "                if val > max_val:\n",
    "                    max_val = val\n",
    "\n",
    "            if n == 1:\n",
    "                val_IdxFrac += abs(data[i * n])\n",
    "            else:\n",
    "                val_IdxFrac += (max_val - min_val)\n",
    "\n",
    "        IdxFrac += [log(val_IdxFrac / 2)]\n",
    "\n",
    "    return list(map(log, periods)), IdxFrac"
   ]
  },
  {
   "cell_type": "code",
   "execution_count": 289,
   "id": "6cebf50c-cb36-4253-bb1c-8f2fa176ed86",
   "metadata": {
    "tags": []
   },
   "outputs": [],
   "source": [
    "def get_mc_vectors(data, num_batch=None, min_size=20, max_size=None):\n",
    "\n",
    "    len_data = len(data)\n",
    "\n",
    "    if num_batch is None:\n",
    "        num_batch = len_data // 1000\n",
    "    len_batch = len_data // num_batch\n",
    "\n",
    "    vec_m, vec_c = [None] * num_batch, [None] * num_batch\n",
    "\n",
    "    with tqdm(total=num_batch, position=0, leave=True) as pbar:\n",
    "        for i in range(num_batch):\n",
    "\n",
    "            pbar.set_description(f\"Batch: {i+1}/{num_batch}\")\n",
    "            pbar.update()\n",
    "\n",
    "            per, RS = analysisIdxFrac(data[len_batch * i:len_batch * (i + 1)], min_size, max_size)\n",
    "            vec_m[i], vec_c[i] = get_lin_reg(per, RS)\n",
    "            vec_m[i] *= -1\n",
    "\n",
    "    return vec_m, vec_c"
   ]
  },
  {
   "cell_type": "code",
   "execution_count": 7,
   "id": "93ca44e6-905e-4dc3-8141-6eb6d66fb791",
   "metadata": {
    "tags": []
   },
   "outputs": [],
   "source": [
    "def pink_noise(length, time_rel=[1, 10, 100]):\n",
    "    p = list(map(lambda x: exp(-1/x), time_rel))\n",
    "\n",
    "    num_per = len(p)\n",
    "    rel_x, vals = [0] * num_per, [0] * length\n",
    "    sums = 0\n",
    "    start = 1000\n",
    "\n",
    "    for i in range(length + start):\n",
    "        for j in range(num_per):\n",
    "            rel_x[j] = p[j] * rel_x[j] + sqrt(1 - p[j] ** 2) * random()\n",
    "            if i >= start:\n",
    "                vals[i - start] += rel_x[j]\n",
    "\n",
    "        if i >= start:\n",
    "            sums += vals[i - start]\n",
    "\n",
    "    sums /= length\n",
    "    for i in range(length):\n",
    "        vals[i] -= sums\n",
    "\n",
    "    # сделать преобразование\n",
    "\n",
    "    return vals"
   ]
  },
  {
   "cell_type": "code",
   "execution_count": 150,
   "id": "b8a97082-f1e3-447d-ad90-817133f3d791",
   "metadata": {
    "tags": []
   },
   "outputs": [],
   "source": [
    "def noise(length, proba=0.5, min_lookback=1, max_lookback=100, walk=False):\n",
    "    series = [0.] * length\n",
    "    for i in range(1, length):\n",
    "        if i < min_lookback + 1:\n",
    "            direction = np.sign(np.random.randn()) * np.sign(proba - np.random.uniform())\n",
    "        else:\n",
    "            lookback = np.random.randint(min_lookback, min(i - 1, max_lookback) + 1)\n",
    "            direction = np.sign(series[i - 1] - series[i - 1 - lookback]) * np.sign(proba - np.random.uniform())\n",
    "        series[i] = series[i - 1] + np.fabs(np.random.randn()) * direction\n",
    "\n",
    "    if not walk:\n",
    "        for i in range(length - 1, 0, -1):\n",
    "            series[i] -= series[i - 1]\n",
    "\n",
    "    return series"
   ]
  },
  {
   "cell_type": "code",
   "execution_count": 9,
   "id": "648a5317-d103-41a8-96d5-4399f3f142da",
   "metadata": {
    "tags": []
   },
   "outputs": [],
   "source": [
    "def compute_Hc(series, kind=\"change\", min_window=10, max_window=None, simplified=False, min_sample=100):\n",
    "\n",
    "    if len(series)<min_sample:\n",
    "        raise ValueError(f\"Series length must be greater or equal to min_sample={min_sample}\" )\n",
    "\n",
    "    ndarray_likes = [np.ndarray]\n",
    "    if \"pandas.core.series\" in sys.modules.keys():\n",
    "        ndarray_likes.append(pd.core.series.Series)\n",
    "\n",
    "    # convert series to numpy array if series is not numpy array or pandas Series\n",
    "    if type(series) not in ndarray_likes:\n",
    "        series = np.array(series)\n",
    "\n",
    "    if \"pandas.core.series\" in sys.modules.keys() and type(series) == pd.core.series.Series:\n",
    "        if series.isnull().values.any():\n",
    "            raise ValueError(\"Series contains NaNs\")\n",
    "        series = series.values  # convert pandas Series to numpy array\n",
    "    elif np.isnan(np.min(series)):\n",
    "        raise ValueError(\"Series contains NaNs\")\n",
    "\n",
    "    if simplified:\n",
    "        RS_func = __get_simplified_RS\n",
    "    else:\n",
    "        RS_func = __get_RS\n",
    "\n",
    "\n",
    "    err = np.geterr()\n",
    "    np.seterr(all='raise')\n",
    "\n",
    "    max_window = max_window or len(series)-1\n",
    "    window_sizes = list(map(\n",
    "        lambda x: int(10**x),\n",
    "        np.arange(math.log10(min_window), math.log10(max_window), 0.25)))\n",
    "    window_sizes.append(len(series))\n",
    "\n",
    "    RS = []\n",
    "    for w in window_sizes:\n",
    "        rs = []\n",
    "        for start in range(0, len(series), w):\n",
    "            if (start+w)>len(series):\n",
    "                break\n",
    "            _ = RS_func(series[start:start+w], kind)\n",
    "            if _ != 0:\n",
    "                rs.append(_)\n",
    "        RS.append(np.mean(rs))\n",
    "\n",
    "    A = np.vstack([np.log10(window_sizes), np.ones(len(RS))]).T\n",
    "    H, c = np.linalg.lstsq(A, np.log10(RS), rcond=-1)[0]\n",
    "    np.seterr(**err)\n",
    "\n",
    "    c = 10**c\n",
    "    return H, c, [window_sizes, RS]"
   ]
  },
  {
   "cell_type": "code",
   "execution_count": 10,
   "id": "d37dcc53-3ec1-4a8e-bf2c-04e854dc8e4a",
   "metadata": {
    "tags": []
   },
   "outputs": [],
   "source": [
    "def __get_RS(series, kind):\n",
    "\n",
    "    if kind == 'random_walk':\n",
    "        incs = __to_inc(series)\n",
    "        mean_inc = (series[-1] - series[0]) / len(incs)\n",
    "        deviations = incs - mean_inc\n",
    "        Z = np.cumsum(deviations)\n",
    "        R = max(Z) - min(Z)\n",
    "        S = np.std(incs, ddof=1)\n",
    "\n",
    "    elif kind == 'price':\n",
    "        incs = __to_pct(series)\n",
    "        mean_inc = np.sum(incs) / len(incs)\n",
    "        deviations = incs - mean_inc\n",
    "        Z = np.cumsum(deviations)\n",
    "        R = max(Z) - min(Z)\n",
    "        S = np.std(incs, ddof=1)\n",
    "\n",
    "    elif kind == 'change':\n",
    "        incs = series\n",
    "        mean_inc = np.sum(incs) / len(incs)\n",
    "        deviations = incs - mean_inc\n",
    "        Z = np.cumsum(deviations)\n",
    "        R = max(Z) - min(Z)\n",
    "        S = np.std(incs, ddof=1)\n",
    "\n",
    "    if R == 0 or S == 0:\n",
    "        return 0  # return 0 to skip this interval due undefined R/S\n",
    "\n",
    "    return R / S"
   ]
  },
  {
   "cell_type": "code",
   "execution_count": 35,
   "id": "96dfdeaf-0b6f-41a5-9682-93c08da1ae70",
   "metadata": {
    "tags": []
   },
   "outputs": [],
   "source": [
    "cnt_points = 50000\n",
    "meshgrid = [(i + 1) / cnt_points * 20 * pi for i in range(cnt_points + 1)]\n",
    "\n",
    "x = [atan(i) + np.random.normal(0, 0.01, 1)[0] for i in meshgrid]"
   ]
  },
  {
   "cell_type": "code",
   "execution_count": 31,
   "id": "bd0f45d3-8a8a-4fc5-a8a8-272b1711f374",
   "metadata": {
    "tags": []
   },
   "outputs": [
    {
     "name": "stdout",
     "output_type": "stream",
     "text": [
      "1.3167683609424201\n",
      "-2.8259837542902018\n"
     ]
    }
   ],
   "source": [
    "per, RS = analysisRS(x[:1000])\n",
    "H2, c2 = get_lin_reg(per, RS)\n",
    "\n",
    "vec_res_line2 = [H2 * i + c2 for i in per]\n",
    "print(H2)\n",
    "print(c2)"
   ]
  },
  {
   "cell_type": "code",
   "execution_count": 358,
   "id": "0e8c47f2-8f9e-402a-ac2d-a7c2d9f3193a",
   "metadata": {
    "tags": []
   },
   "outputs": [],
   "source": [
    "def __to_inc(x):\n",
    "    incs = x[1:] - x[:-1]\n",
    "    return incs"
   ]
  },
  {
   "cell_type": "code",
   "execution_count": 388,
   "id": "e3bd6609-6294-451d-b00e-d52cf51cf860",
   "metadata": {
    "tags": []
   },
   "outputs": [
    {
     "name": "stderr",
     "output_type": "stream",
     "text": [
      "Batch: 100/100: 100%|████████████████████████████████████████████████████████████████| 100/100 [00:03<00:00, 26.11it/s]\n"
     ]
    }
   ],
   "source": [
    "ns = noise(100000, 0.2, walk=True)\n",
    "vec_mH, vec_c = get_mc_vectors(ns, 100)"
   ]
  },
  {
   "cell_type": "code",
   "execution_count": 389,
   "id": "961a1750-e6df-477e-8dff-8b0526aba206",
   "metadata": {
    "tags": []
   },
   "outputs": [
    {
     "data": {
      "image/png": "[encoded data removed]",
      "text/plain": [
       "<Figure size 1500x400 with 1 Axes>"
      ]
     },
     "metadata": {},
     "output_type": "display_data"
    }
   ],
   "source": [
    "print_frac_alalysis(ns, vec_mH, 100)"
   ]
  },
  {
   "cell_type": "code",
   "execution_count": 396,
   "id": "6769bba6-e6c2-473c-b8e9-9717e76b332b",
   "metadata": {
    "tags": []
   },
   "outputs": [
    {
     "name": "stdout",
     "output_type": "stream",
     "text": [
      "0.7938342695530232\n"
     ]
    }
   ],
   "source": [
    "print(sum(vec_mH) / len(vec_mH))"
   ]
  },
  {
   "cell_type": "code",
   "execution_count": 401,
   "id": "77837879-6059-42bb-9f30-3ca368fe7dfd",
   "metadata": {
    "tags": []
   },
   "outputs": [
    {
     "name": "stdout",
     "output_type": "stream",
     "text": [
      "0.27347773548938675 1.88555091775167\n"
     ]
    }
   ],
   "source": [
    "H, c, data__ = compute_Hc(ns, \"random_walk\")\n",
    "print(H, c)\n"
   ]
  },
  {
   "cell_type": "code",
   "execution_count": 392,
   "id": "028621d2-6f2f-4bf5-ba1c-a4e5a85ca41f",
   "metadata": {
    "tags": []
   },
   "outputs": [],
   "source": [
    "vec_res = []\n",
    "for i in range(1, len(ns)):\n",
    "    vec_res += [ns[i] - ns[i-1]]"
   ]
  },
  {
   "cell_type": "code",
   "execution_count": 402,
   "id": "b52e2e31-b178-4c64-bd15-c955b5920cf3",
   "metadata": {
    "tags": []
   },
   "outputs": [
    {
     "name": "stderr",
     "output_type": "stream",
     "text": [
      "Batch: 20/20: 100%|████████████████████████████████████████████████████████████████████| 20/20 [00:01<00:00, 15.19it/s]\n"
     ]
    }
   ],
   "source": [
    "vec_H, vec_c = get_Hc_vectors(vec_res, 20)"
   ]
  },
  {
   "cell_type": "code",
   "execution_count": 403,
   "id": "08611d85-f3b6-438b-b3ff-f84ef5335c15",
   "metadata": {
    "tags": []
   },
   "outputs": [
    {
     "data": {
      "image/png": "[encoded data removed]",
      "text/plain": [
       "<Figure size 1500x400 with 1 Axes>"
      ]
     },
     "metadata": {},
     "output_type": "display_data"
    }
   ],
   "source": [
    "print_frac_alalysis(vec_res, vec_H, 20)"
   ]
  },
  {
   "cell_type": "code",
   "execution_count": 404,
   "id": "9cb9acb6-a119-42a2-8555-3732c30891f8",
   "metadata": {
    "tags": []
   },
   "outputs": [
    {
     "name": "stdout",
     "output_type": "stream",
     "text": [
      "0.25111744598576624\n"
     ]
    }
   ],
   "source": [
    "print(sum(vec_H) / len(vec_H))"
   ]
  },
  {
   "cell_type": "code",
   "execution_count": null,
   "id": "c4f64aee-9097-41ef-b26b-c32f0637061b",
   "metadata": {},
   "outputs": [],
   "source": []
  }
 ],
 "metadata": {
  "kernelspec": {
   "display_name": "Python 3 (ipykernel)",
   "language": "python",
   "name": "python3"
  },
  "language_info": {
   "codemirror_mode": {
    "name": "ipython",
    "version": 3
   },
   "file_extension": ".py",
   "mimetype": "text/x-python",
   "name": "python",
   "nbconvert_exporter": "python",
   "pygments_lexer": "ipython3",
   "version": "3.10.7"
  }
 },
 "nbformat": 4,
 "nbformat_minor": 5
}
