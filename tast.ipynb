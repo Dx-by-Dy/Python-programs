{
 "cells": [
  {
   "cell_type": "code",
   "execution_count": 17,
   "id": "0effa79b-94ea-4b0c-8a7c-9dd8afea2337",
   "metadata": {},
   "outputs": [
    {
     "name": "stdout",
     "output_type": "stream",
     "text": [
      "[14, 16, 22, 32, 34, 38, 42, 46, 48, 58, 64, 66, 86, 88, 92, 96, 100, 102, 110, 114, 126, 136, 138, 144, 166, 172, 174, 190, 192, 198, 248, 250, 254, 258, 262, 264, 272, 276, 288, 298, 300, 306, 326, 330, 342, 378, 406, 408, 414, 432, 490, 496, 498, 514, 516, 522, 568, 570, 576, 594, 734, 736, 740, 744, 748, 750, 758, 762, 774, 784, 786, 792, 812, 816, 828, 864, 892, 894, 900, 918, 974, 978, 990, 1026, 1134, 1216, 1218, 1224, 1242, 1296, 1462, 1468, 1470, 1486, 1488, 1494, 1540, 1542, 1548, 1566, 1702, 1704, 1710, 1728, 1782, 2192, 2194, 2198, 2202, 2206, 2208, 2216, 2220, 2232, 2242, 2244, 2250, 2270, 2274, 2286, 2322, 2350, 2352, 2358, 2376, 2432, 2436, 2448, 2484, 2592, 2674, 2676, 2682, 2700, 2754, 2918, 2922, 2934, 2970, 3078, 3402, 3646, 3648, 3654, 3672, 3726, 3888, 4378, 4384, 4386, 4402, 4404, 4410, 4456, 4458, 4464, 4482, 4618, 4620, 4626, 4644, 4698, 5104, 5106, 5112, 5130, 5184, 5346, 6566, 6568, 6572, 6576, 6580, 6582, 6590, 6594, 6606, 6616, 6618, 6624, 6644, 6648, 6660, 6696, 6724, 6726, 6732, 6750, 6806, 6810, 6822, 6858, 6966, 7048, 7050, 7056, 7074, 7128, 7292, 7296, 7308, 7344, 7452, 7776, 8020, 8022, 8028, 8046, 8100, 8262, 8750, 8754, 8766, 8802, 8910, 9234, 10206, 10936, 10938, 10944, 10962, 11016, 11178, 11664, 13126, 13132, 13134, 13150, 13152, 13158, 13204, 13206, 13212, 13230, 13366, 13368, 13374, 13392, 13446, 13852, 13854, 13860, 13878, 13932, 14094, 15310, 15312, 15318, 15336, 15390, 15552, 16038]\n"
     ]
    }
   ],
   "source": [
    "from itertools import combinations, permutations\n",
    "\n",
    "A = permutations(\"0\" * 6 + \"211\")\n",
    "R = sorted(list(set(map(lambda x: int(\"\".join(x), 3), A))))\n",
    "print(R)"
   ]
  },
  {
   "cell_type": "code",
   "execution_count": 39,
   "id": "a57f9c0d-bf65-4e2d-9de3-e03f13cf49ee",
   "metadata": {
    "scrolled": true
   },
   "outputs": [
    {
     "name": "stdout",
     "output_type": "stream",
     "text": [
      "13212\n",
      "232\n"
     ]
    }
   ],
   "source": [
    "print(int(\"200010100\", 3))\n",
    "print(R.index(int(\"200010100\", 3)))"
   ]
  },
  {
   "cell_type": "code",
   "execution_count": 35,
   "id": "9c6a8a34-add5-4e55-9b6f-dffe5b4b25bd",
   "metadata": {
    "scrolled": true
   },
   "outputs": [
    {
     "name": "stdout",
     "output_type": "stream",
     "text": [
      "233.0\n"
     ]
    }
   ],
   "source": [
    "def C(n, k):\n",
    "    from math import factorial as f\n",
    "    return f(n)/f(n-k)/f(k)\n",
    "\n",
    "print(3 * C(8, 3) + 2 * C(8, 2) + C(4, 2) + 3)"
   ]
  },
  {
   "cell_type": "code",
   "execution_count": 55,
   "id": "80cb0c9e-74ed-45b3-9546-39f7f56f0e63",
   "metadata": {},
   "outputs": [
    {
     "name": "stdout",
     "output_type": "stream",
     "text": [
      "82012.49999999991\n"
     ]
    }
   ],
   "source": [
    "s = 0\n",
    "for i in range(2025):\n",
    "    s += (9 ** (i / 2024 + 2)) / (9 ** (i / 2024) + 3)\n",
    "print(s)"
   ]
  },
  {
   "cell_type": "code",
   "execution_count": 56,
   "id": "0a2b8213-9630-4258-837b-3f4d20bfe220",
   "metadata": {},
   "outputs": [
    {
     "data": {
      "text/plain": [
       "82012.5"
      ]
     },
     "execution_count": 56,
     "metadata": {},
     "output_type": "execute_result"
    }
   ],
   "source": [
    "81 * 1012.5"
   ]
  }
 ],
 "metadata": {
  "kernelspec": {
   "display_name": "Python 3 (ipykernel)",
   "language": "python",
   "name": "python3"
  },
  "language_info": {
   "codemirror_mode": {
    "name": "ipython",
    "version": 3
   },
   "file_extension": ".py",
   "mimetype": "text/x-python",
   "name": "python",
   "nbconvert_exporter": "python",
   "pygments_lexer": "ipython3",
   "version": "3.10.0"
  }
 },
 "nbformat": 4,
 "nbformat_minor": 5
}
